{
 "cells": [
  {
   "cell_type": "markdown",
   "metadata": {},
   "source": [
    "Media Cloud: Topics: Measuring Influce\n",
    "======================================\n",
    "\n",
    "At this point you have a topic created in Media Cloud - a corpus of open-news web content related to an issue you want to investigate, discovered on mulitple platforms across the internet. The topic includes influence metrics beyond the normal data collected by Media Cloud.\n",
    "\n",
    "* Linking Metrics\n",
    "* Social Sharing Metrics\n",
    "\n",
    "Our API lets exposes a few key endpoints for analyzing attention within a topic:\n",
    "* `topicStoryList`:  page through the actual stories that match your query in the topic (read the [low level docs](https://github.com/berkmancenter/mediacloud/blob/master/doc/api_2_0_spec/topics_api_2_0_spec.md#storieslist))"
   ]
  },
  {
   "cell_type": "markdown",
   "metadata": {},
   "source": [
    "## Setup a Connection and Some Constants"
   ]
  },
  {
   "cell_type": "code",
   "execution_count": null,
   "metadata": {},
   "outputs": [],
   "source": [
    "# Grab your API key from the environment variable and create a client for talking to Media Cloud\n",
    "import os, mediacloud.api\n",
    "from dotenv import load_dotenv\n",
    "from IPython.display import JSON\n",
    "load_dotenv()  # load config from .env file\n",
    "mc = mediacloud.api.MediaCloud(os.getenv('MC_API_KEY'))\n",
    "mediacloud.__version__"
   ]
  },
  {
   "cell_type": "code",
   "execution_count": null,
   "metadata": {},
   "outputs": [],
   "source": [
    "# we'll use this topic for the explanantion\n",
    "SOURDOUGH_TOPIC = 4138\n",
    "# find the latest snapshot\n",
    "snapshots = mc.topicSnapshotList(SOURDOUGH_TOPIC)\n",
    "latest_snapshot_id = snapshots[0]['snapshots_id'] # grab the id of the latest snapshot\n",
    "# pull out the automatically-generated monthly timespans, and the overall one\n",
    "timespans = mc.topicTimespanList(SOURDOUGH_TOPIC)\n",
    "overall_timespan = [t for t in timespans if t['period'] == 'overall'][0]\n",
    "monthly_timespans = [t for t in timespans if t['period'] == 'monthly']\n",
    "# grab a subtopic to work with as well\n",
    "focal_sets = mc.topicFocalSetList(SOURDOUGH_TOPIC)\n",
    "reddit_foci_id = focal_sets[0]['foci'][0]['foci_id']\n",
    "# and some timespans in the reddit subtopic\n",
    "reddit_timespans = mc.topicTimespanList(SOURDOUGH_TOPIC, foci_id=reddit_foci_id)\n",
    "reddit_overall_timespan = [t for t in reddit_timespans if t['period'] == 'overall'][0]\n",
    "reddit_monthly_timespans = [t for t in reddit_timespans if t['period'] == 'monthly']"
   ]
  },
  {
   "cell_type": "markdown",
   "metadata": {},
   "source": [
    "## Linking Metrics\n",
    "\n",
    "We extract the links in every story, giving us a network map of who links to who at the story and media level. "
   ]
  },
  {
   "cell_type": "markdown",
   "metadata": {},
   "source": [
    "### Media Inlinks and Outlinks\n",
    "\n",
    "We find link behaviour at the media source level to be far more useful than at the story level for aggregate network analysis."
   ]
  },
  {
   "cell_type": "code",
   "execution_count": null,
   "metadata": {},
   "outputs": [],
   "source": [
    "# what was the top media sources linked to in the entire corpus?\n",
    "top_media_by_media_inlink = mc.topicMediaList(SOURDOUGH_TOPIC, sort='inlink')\n",
    "[m['name'] for m in top_media_by_media_inlink['media'][:10]]"
   ]
  },
  {
   "cell_type": "code",
   "execution_count": null,
   "metadata": {},
   "outputs": [],
   "source": [
    "# and what about in stories just from reddit?\n",
    "top_media_by_media_inlink = mc.topicMediaList(SOURDOUGH_TOPIC, timespans_id=reddit_overall_timespan['timespans_id'], sort='inlink')\n",
    "[m['url'] for m in top_media_by_media_inlink['media'][:10]]"
   ]
  },
  {
   "cell_type": "markdown",
   "metadata": {},
   "source": [
    "### Inlinks and Outlinks"
   ]
  },
  {
   "cell_type": "code",
   "execution_count": null,
   "metadata": {},
   "outputs": [],
   "source": [
    "# and what was to story that had the most *media* linking to it?\n",
    "top_stories_by_media_inlink = mc.topicStoryList(SOURDOUGH_TOPIC, sort='inlink')\n",
    "[s['url'] for s in top_stories_by_media_inlink['stories'][:10]]"
   ]
  },
  {
   "cell_type": "markdown",
   "metadata": {},
   "source": [
    "You'll note that there is some garbage in here - for instance the Instagram login page. That always happens in topics, and you just have to weed it out."
   ]
  },
  {
   "cell_type": "markdown",
   "metadata": {},
   "source": [
    "### Shortcut: Automatically Generated Link Maps\n",
    "\n",
    "With all this information, we automatically generate link maps in .svg and .gexf format for every `timespan`. You can visit yout topic's \"Export\" tab to view and download those."
   ]
  },
  {
   "cell_type": "markdown",
   "metadata": {},
   "source": [
    "## Social Sharing Metrics\n",
    "\n",
    "We've recently added \"beta\" support for ingesting open web news stories that are sharing on social media sites - links posted to reddit, top links from Google News, etc (more coming soon!). You add these as \"platforms\" while creating your topic. Each social media platform gets an automatically generated subtopic that includes sharing metrics at the story and media level.\n",
    "\n",
    "* `post_count`: The number of *times* a link to a story, or media source, was posted in matching content we found on that platform\n",
    "* `author_count`: The number of *unique authors* who posted a link to a story, or media source, was posted in matching content we found on that platform\n",
    "* `channel_count`: The number of *unique \"channels\"* in which a link to a story, or media source, was posted in matching content we found on that platform. Channels mean different things for each platform - for reddit they are the subreddit; Google News doesn't have a channel; when we add YouTube it will be the video's channel.\n",
    "\n",
    "We also add in the overall Facebook share count for the story. This is across all of Facebook, so it isn't an indication of *relevant* social sharing (ie. it could be a link shared by someone not actually discussing your issue). For this reason we tend to use this less often than we used to."
   ]
  },
  {
   "cell_type": "code",
   "execution_count": null,
   "metadata": {},
   "outputs": [],
   "source": [
    "# Grab story most posted of all the stories discovered on Reddit\n",
    "top_posted_on_reddit = mc.topicStoryList(SOURDOUGH_TOPIC, timespans_id=reddit_overall_timespan['timespans_id'], sort='post_count')\n",
    "top_story_on_reddit = top_posted_on_reddit['stories'][0]\n",
    "top_story_on_reddit['url']"
   ]
  },
  {
   "cell_type": "code",
   "execution_count": null,
   "metadata": {},
   "outputs": [],
   "source": [
    "# check if this was all from one account or not\n",
    "print(\"posted {} times\".format(top_story_on_reddit['post_count']))\n",
    "print(\"by {} unique users\".format(top_story_on_reddit['author_count']))\n",
    "print(\"in {} subreddits\".format(top_story_on_reddit['channel_count']))"
   ]
  },
  {
   "cell_type": "code",
   "execution_count": null,
   "metadata": {},
   "outputs": [],
   "source": []
  }
 ],
 "metadata": {
  "kernelspec": {
   "display_name": "Python 3",
   "language": "python",
   "name": "python3"
  },
  "language_info": {
   "codemirror_mode": {
    "name": "ipython",
    "version": 3
   },
   "file_extension": ".py",
   "mimetype": "text/x-python",
   "name": "python",
   "nbconvert_exporter": "python",
   "pygments_lexer": "ipython3",
   "version": "3.7.3"
  }
 },
 "nbformat": 4,
 "nbformat_minor": 4
}
