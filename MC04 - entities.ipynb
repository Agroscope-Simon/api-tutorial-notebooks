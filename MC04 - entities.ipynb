{
 "cells": [
  {
   "cell_type": "markdown",
   "metadata": {},
   "source": [
    "Media Cloud: Studying Entites\n",
    "=============================\n",
    "\n",
    "At this point you're ready to query Media Cloud for data. You can use boolean query syntax - [read our query guide](https://mediacloud.org/support/query-guide) for more details about the exact syntax (it runs a [SOLR search](https://lucene.apache.org/solr/guide/6_6/the-standard-query-parser.html#the-standard-query-parser) under the hood). **This notebook demonstrates how to quickly evaluate the entities being mentioned**.\n",
    "\n",
    "Looking at the entities mentioned in media stories can be very helpful to understand whose narrative is dominating the framing of an issue. Every English-language story in our system is run through our [Cliff-Clavin tool](https://cliff.mediacloud.org), which extracts **people**, **places** and **orginations** mentioned in text (via [Stanford's CoreNLP](https://stanfordnlp.github.io/CoreNLP/)). The core add-on is the extra added layer of heuristics that disambiguates the geographic mentions (more details in [our NewsKDD paper from 2014](https://dspace.mit.edu/handle/1721.1/123451)). Sadly this only works in English.\n",
    "\n",
    "Entities are stored as *tags* on stories. Tags are collected into tag sets to support aggregation and comparison. There are 3 tag sets related to entities, all captured as constants in `mediacloud.tags`:\n",
    "* People - tag set 2389 (`mediacloud.tags.TAG_SET_CLIFF_PEOPLE`)\n",
    "* Organizations - tag set 2388 (`mediacloud.tags.TAG_SET_CLIFF_ORGS`)\n",
    "* Places (countries and states/provinces) - tag set 1011 (`mediacloud.tags.TAG_SET_CLIFF_PLACES`)\n",
    "\n",
    "There is one key API method to support studying entity use, exposed via our Python API:\n",
    "\n",
    "* `storyTagCount`: Returns lists of the most used tags within a tag set in the stories matching your query ([documentation](https://github.com/berkmancenter/mediacloud/blob/master/doc/api_2_0_spec/api_2_0_spec.md#apiv2stories_publictag_count))\n"
   ]
  },
  {
   "cell_type": "code",
   "execution_count": null,
   "metadata": {},
   "outputs": [],
   "source": [
    "# Grab your API key from the environment variable and create a client for talking to Media Cloud\n",
    "import os, mediacloud.api\n",
    "from dotenv import load_dotenv\n",
    "from IPython.display import JSON\n",
    "load_dotenv()  # load config from .env file\n",
    "mc = mediacloud.api.MediaCloud(os.getenv('MC_API_KEY'))\n",
    "mediacloud.__version__"
   ]
  },
  {
   "cell_type": "code",
   "execution_count": null,
   "metadata": {},
   "outputs": [],
   "source": [
    "import datetime\n",
    "us_query = '\"climate change\" and tags_id_media:34412234'\n",
    "date_range_2019 = mc.dates_as_query_clause(datetime.date(2019,1,1), datetime.date(2019,1,31)) # inclusive"
   ]
  },
  {
   "cell_type": "markdown",
   "metadata": {},
   "source": [
    "## Who is Being Mentioned?\n",
    "\n",
    "Looking at \"newsmakers\" is a classic approach to understanding whose message is getting out about an issue."
   ]
  },
  {
   "cell_type": "code",
   "execution_count": null,
   "metadata": {},
   "outputs": [],
   "source": [
    "# let's see who is being mentioned most in stories about \"climate change\" in US national sources\n",
    "import mediacloud.tags\n",
    "results = mc.storyTagCount(us_query, date_range_2019, tag_sets_id=mediacloud.tags.TAG_SET_CLIFF_PEOPLE)\n",
    "results[:3]"
   ]
  },
  {
   "cell_type": "markdown",
   "metadata": {},
   "source": [
    "You'll note that the top sources probably include two versions of the same person's name. People are *not* being disambiguated, mostly because we haven't found an off-the-shelf free solution that works well for this yet, and don't have a research project that has required us to solve this problem at scale.\n",
    "\n",
    "Of course these results can simply reflect who is mentioned overall in all news reporting. You might want to normalize these against results across all media. For instance, is Person X mentioned more often than you'd expect based on news reporting in general."
   ]
  },
  {
   "cell_type": "markdown",
   "metadata": {},
   "source": [
    "## What Organizations are Being Mentioned?"
   ]
  },
  {
   "cell_type": "code",
   "execution_count": null,
   "metadata": {},
   "outputs": [],
   "source": [
    "# let's which organizations are being mentioned most in stories about \"climate change\" in US national sources\n",
    "import mediacloud.tags\n",
    "results = mc.storyTagCount(us_query, date_range_2019, tag_sets_id=mediacloud.tags.TAG_SET_CLIFF_ORGS)\n",
    "results[:3]"
   ]
  },
  {
   "cell_type": "markdown",
   "metadata": {},
   "source": [
    "## What Places are Being Talked About?\n",
    "\n",
    "We take the raw results of places mentioned, disambiguate them to specific locations based on heuristics, and then tag stories with the countries and states/provinces that are most mentioned in each story. So you can't search for all stories mentioning a small town, and probably shouldn't anyway because the false positivites will be frequent (ie. which \"London\"?). You can search for stories about a country or a state/province. You can browse and download lists of the tags for every countries and subdivisions in our system [on our tag support page](https://mediacloud.org/support/list-of-tags)."
   ]
  },
  {
   "cell_type": "code",
   "execution_count": null,
   "metadata": {},
   "outputs": [],
   "source": [
    "# let's which places are being mentioned most in stories about \"climate change\" in US national sources\n",
    "import mediacloud.tags\n",
    "results = mc.storyTagCount(us_query, date_range_2019, tag_sets_id=mediacloud.tags.TAG_SET_CLIFF_PLACES)\n",
    "results[:3]"
   ]
  },
  {
   "cell_type": "markdown",
   "metadata": {},
   "source": [
    "There are few things worth noting in these results\n",
    "\n",
    "* The tag text (the `tag` property) includes the geonames id of the place. We use [Geonames.org](https://www.geonames.org) under the hood as our index of unique places. You can use this ID a unique key for the place.\n",
    "* The tag `description` captures some other useful geographic information about, like the 2-letter ISO abbreviation.\n",
    "* There are a mix of countries and subdivisions in this tag set, so you if you want just countries you'll have the filter for those. You can [download a list of all the country-level tags](https://mediacloud.org/s/imynpclbsboalbltpq9w0uvligjg5h) on our support page."
   ]
  },
  {
   "cell_type": "code",
   "execution_count": null,
   "metadata": {},
   "outputs": [],
   "source": []
  }
 ],
 "metadata": {
  "kernelspec": {
   "display_name": "Python 3",
   "language": "python",
   "name": "python3"
  },
  "language_info": {
   "codemirror_mode": {
    "name": "ipython",
    "version": 3
   },
   "file_extension": ".py",
   "mimetype": "text/x-python",
   "name": "python",
   "nbconvert_exporter": "python",
   "pygments_lexer": "ipython3",
   "version": "3.7.3"
  }
 },
 "nbformat": 4,
 "nbformat_minor": 4
}
