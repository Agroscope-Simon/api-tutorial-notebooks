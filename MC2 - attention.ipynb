{
 "cells": [
  {
   "cell_type": "markdown",
   "metadata": {},
   "source": [
    "Media Cloud: Measuring Attention\n",
    "================================\n",
    "\n",
    "At this point you should be ready to query Media Cloud for data. You can use boolean query syntax - [read our query guide](https://mediacloud.org/support/query-guide) for more details about the exact syntax (it runs a [SOLR search](https://lucene.apache.org/solr/guide/6_6/the-standard-query-parser.html#the-standard-query-parser) under the hood). **This notebook demonstrates how to quickly measure attention paid to an issue by the media**.\n",
    "\n",
    "Studying media attention is critical for understanding how much readers are exposed to an issue, and has a long traditon. Media Cloud supports investigatin attention within individual sources we track, or within collecitons or sources. We have wide global coverage with both national-level and regional/state-level collections for most countries. You can [browse our geographic collections](https://sources.mediacloud.org/#/collections/country-and-state) to see more.\n",
    "\n",
    "Our Python API exposes two methods that are particularly helpful for studying attention: \n",
    "\n",
    "* `storyCount`: return the total number of stories in our database matching your query, or return that as a time series (see [the low level documentation](https://github.com/berkmancenter/mediacloud/blob/master/doc/api_2_0_spec/api_2_0_spec.md#apiv2stories_publiccount) for more details about the parameters it supports)\n",
    "* `storyList`: page through the actual stories that match your query ([low level docs](https://github.com/berkmancenter/mediacloud/blob/master/doc/api_2_0_spec/api_2_0_spec.md#apiv2stories_publiclist))"
   ]
  },
  {
   "cell_type": "code",
   "execution_count": 2,
   "metadata": {},
   "outputs": [
    {
     "data": {
      "text/plain": [
       "'3.11.2'"
      ]
     },
     "execution_count": 2,
     "metadata": {},
     "output_type": "execute_result"
    }
   ],
   "source": [
    "# Grab your API key from the environment variable and create a client for talking to Media Cloud\n",
    "import os, mediacloud.api\n",
    "from dotenv import load_dotenv\n",
    "from IPython.display import JSON\n",
    "load_dotenv()  # load config from .env file\n",
    "mc = mediacloud.api.MediaCloud(os.getenv('MC_API_KEY'))\n",
    "mediacloud.__version__"
   ]
  },
  {
   "cell_type": "markdown",
   "metadata": {},
   "source": [
    "## Attention from a Single Media Source\n",
    "You can start by looking at attention from a single media source to a topic you are interested in. We have almost a million media sources in our system, but only about 100,000 of them are ones that we regularly collect stories from, via RSS feeds or more recently from their sitemaps. You can get the internal id number for any source by searching for it in our [Source Manager tool](https://sources.mediacloud.org/) and noting the ID number just under the large title on that page."
   ]
  },
  {
   "cell_type": "code",
   "execution_count": 3,
   "metadata": {},
   "outputs": [
    {
     "data": {
      "text/plain": [
       "{'count': 26745}"
      ]
     },
     "execution_count": 3,
     "metadata": {},
     "output_type": "execute_result"
    }
   ],
   "source": [
    "# check how many stories mention \"climate change\" in the Washington Post (media id #2)\n",
    "my_query = '\"climate change\" and media_id:2'\n",
    "mc.storyCount(my_query)"
   ]
  },
  {
   "cell_type": "code",
   "execution_count": 4,
   "metadata": {},
   "outputs": [
    {
     "data": {
      "text/plain": [
       "{'count': 5040}"
      ]
     },
     "execution_count": 4,
     "metadata": {},
     "output_type": "execute_result"
    }
   ],
   "source": [
    "# limit this to just 2019\n",
    "# note: the publish_day clause *must* be in the second argument (because of the way we have set up our DB)\n",
    "# note: in solr syntax, square-brackets mean inclusive for a range, while curly braces mean exclusive\n",
    "mc.storyCount(my_query, 'publish_day:[2019-01-01T00:00:00Z TO 2020-01-01T00:00:00Z}')"
   ]
  },
  {
   "cell_type": "code",
   "execution_count": 5,
   "metadata": {},
   "outputs": [
    {
     "data": {
      "text/plain": [
       "{'count': 5040}"
      ]
     },
     "execution_count": 5,
     "metadata": {},
     "output_type": "execute_result"
    }
   ],
   "source": [
    "# but that date syntax is kind of ugly, so we have a helper to produce it for you from python dates\n",
    "import datetime\n",
    "start_date = datetime.date(2019,1,1)\n",
    "end_date = datetime.date(2020,1,1)\n",
    "date_range_2019 = mc.publish_date_query(start_date, end_date) # default is start inclusive, end exclusive\n",
    "mc.storyCount(my_query, date_range_2019)"
   ]
  },
  {
   "cell_type": "code",
   "execution_count": 6,
   "metadata": {},
   "outputs": [
    {
     "data": {
      "application/json": {
       "counts": [
        {
         "count": 338,
         "date": "2019-01-01 00:00:00"
        },
        {
         "count": 402,
         "date": "2019-02-01 00:00:00"
        },
        {
         "count": 424,
         "date": "2019-03-01 00:00:00"
        },
        {
         "count": 310,
         "date": "2019-04-01 00:00:00"
        },
        {
         "count": 438,
         "date": "2019-05-01 00:00:00"
        },
        {
         "count": 493,
         "date": "2019-06-01 00:00:00"
        },
        {
         "count": 406,
         "date": "2019-07-01 00:00:00"
        },
        {
         "count": 511,
         "date": "2019-08-01 00:00:00"
        },
        {
         "count": 585,
         "date": "2019-09-01 00:00:00"
        },
        {
         "count": 423,
         "date": "2019-10-01 00:00:00"
        },
        {
         "count": 353,
         "date": "2019-11-01 00:00:00"
        },
        {
         "count": 357,
         "date": "2019-12-01 00:00:00"
        }
       ]
      },
      "text/plain": [
       "<IPython.core.display.JSON object>"
      ]
     },
     "execution_count": 6,
     "metadata": {
      "application/json": {
       "expanded": false,
       "root": "root"
      }
     },
     "output_type": "execute_result"
    }
   ],
   "source": [
    "# you can see this over time by using the `split` argument\n",
    "# this defaults to results by day, but you can pass a split_period in (day, week, month, or year)\n",
    "results = mc.storyCount(my_query, date_range_2019, split=True, split_period='month')\n",
    "JSON(results)"
   ]
  },
  {
   "cell_type": "markdown",
   "metadata": {},
   "source": [
    "### Normalizing within a Source\n",
    "\n",
    "Looking at absolute attention at the story level is intriguing, but you probably want to normalize this in some way to support comparisons between sources. To do this, we typically compare attention to the total number of stories we have from a source within that same timespan."
   ]
  },
  {
   "cell_type": "code",
   "execution_count": 7,
   "metadata": {},
   "outputs": [
    {
     "data": {
      "text/plain": [
       "'3.95% of 2019 Washington Post stories are about \"climate change\"'"
      ]
     },
     "execution_count": 7,
     "metadata": {},
     "output_type": "execute_result"
    }
   ],
   "source": [
    "relevant_stories = mc.storyCount(my_query, date_range_2019)\n",
    "total_stories = mc.storyCount('media_id:2', date_range_2019)\n",
    "source_ratio = relevant_stories['count'] / total_stories['count']\n",
    "'{:.2%} of 2019 Washington Post stories are about \"climate change\"'.format(source_ratio)"
   ]
  },
  {
   "cell_type": "markdown",
   "metadata": {},
   "source": [
    "## Research Within a Country - using collections\n",
    "\n",
    "[We have wide global coverage](https://sources.mediacloud.org/#/collections/country-and-state), with sources published in a country grouped into collections. For many of these countries we also have collections of media sources published in the various states and provinces. Lets compare the source-level attention to country-level attention."
   ]
  },
  {
   "cell_type": "code",
   "execution_count": 8,
   "metadata": {},
   "outputs": [
    {
     "data": {
      "text/plain": [
       "{'count': 90082}"
      ]
     },
     "execution_count": 8,
     "metadata": {},
     "output_type": "execute_result"
    }
   ],
   "source": [
    "# check in our collection of country-level US National media sources\n",
    "us_query = '\"climate change\" and tags_id_media:34412234'\n",
    "mc.storyCount(us_query, date_range_2019)"
   ]
  },
  {
   "cell_type": "code",
   "execution_count": 9,
   "metadata": {},
   "outputs": [
    {
     "data": {
      "text/plain": [
       "'1.80% of stories from national-level US media sources in 2019 mentioned \"climate change\"'"
      ]
     },
     "execution_count": 9,
     "metadata": {},
     "output_type": "execute_result"
    }
   ],
   "source": [
    "# lets normalize this attention in the same way as we did previsouly\n",
    "relevant_stories = mc.storyCount(us_query, date_range_2019)\n",
    "total_stories = mc.storyCount('tags_id_media:34412234', date_range_2019)\n",
    "us_country_ratio = relevant_stories['count'] / total_stories['count']\n",
    "'{:.2%} of stories from national-level US media sources in 2019 mentioned \"climate change\"'.format(us_country_ratio)"
   ]
  },
  {
   "cell_type": "code",
   "execution_count": 10,
   "metadata": {},
   "outputs": [
    {
     "data": {
      "text/plain": [
       "'\"climate change\" received 2.2 times as much coverage in WashPo than you might expect based on other US national papers'"
      ]
     },
     "execution_count": 10,
     "metadata": {},
     "output_type": "execute_result"
    }
   ],
   "source": [
    "# now we can compare this to the source-level coverage\n",
    "coverage_ratio = source_ratio / us_country_ratio\n",
    "'\"climate change\" received {:.2} times as much coverage in WashPo than you might expect based on other US national papers'.format(coverage_ratio)"
   ]
  },
  {
   "cell_type": "code",
   "execution_count": 11,
   "metadata": {},
   "outputs": [
    {
     "data": {
      "text/plain": [
       "'0.84% of stories from national-level Indian media sources in 2019 mentioned \"climate change\"'"
      ]
     },
     "execution_count": 11,
     "metadata": {},
     "output_type": "execute_result"
    }
   ],
   "source": [
    "# or compare to another country (India in this case)\n",
    "relevant_stories = mc.storyCount('\"climate change\" and tags_id_media:34412118', date_range_2019)\n",
    "total_stories = mc.storyCount('tags_id_media:34412118', date_range_2019)\n",
    "india_country_ratio = relevant_stories['count'] / total_stories['count']\n",
    "'{:.2%} of stories from national-level Indian media sources in 2019 mentioned \"climate change\"'.format(india_country_ratio)"
   ]
  },
  {
   "cell_type": "code",
   "execution_count": 12,
   "metadata": {},
   "outputs": [
    {
     "data": {
      "text/plain": [
       "'at the national level \"climate change\" is covered 0.47x more in India than the US'"
      ]
     },
     "execution_count": 12,
     "metadata": {},
     "output_type": "execute_result"
    }
   ],
   "source": [
    "coverage_ratio =  india_country_ratio / us_country_ratio\n",
    "'at the national level \"climate change\" is covered {:.2}x more in India than the US'.format(coverage_ratio)"
   ]
  },
  {
   "cell_type": "markdown",
   "metadata": {},
   "source": [
    "## Listing Stories\n",
    "\n",
    "Story counts are fine, but often what you really want is the story themselves. Note that **we cannot prodive story content** due to copyright restrictions. However, you can get a list of all the URLs and then fetch them yourself."
   ]
  },
  {
   "cell_type": "code",
   "execution_count": 13,
   "metadata": {},
   "outputs": [
    {
     "data": {
      "application/json": [
       {
        "ap_syndicated": false,
        "collect_date": "2019-09-03 05:50:38.122094",
        "feeds": null,
        "guid": "https://www.schwartzreport.net/?p=47595",
        "language": "en",
        "media_id": 300516,
        "media_name": "Schwartzreport",
        "media_url": "http://www.schwartzreport.net/",
        "metadata": {
         "date_guess_method": null,
         "extractor_version": {
          "stories_id": 1381736285,
          "tag": "readability-lxml-0.7",
          "tag_set": "extractor_version",
          "tag_sets_id": 1354,
          "tags_id": 81092444
         },
         "geocoder_version": {
          "stories_id": 1381736285,
          "tag": "cliff_clavin_v2.4.1",
          "tag_set": "geocoder_version",
          "tag_sets_id": 1937,
          "tags_id": 9696677
         },
         "nyt_themes_version": {
          "stories_id": 1381736285,
          "tag": "nyt_labeller_v1.0.0",
          "tag_set": "nyt_labels_version",
          "tag_sets_id": 1964,
          "tags_id": 9360669
         }
        },
        "processed_stories_id": 1774431710,
        "publish_date": "2019-09-03 05:35:48",
        "stories_id": 1381736285,
        "story_tags": [
         {
          "stories_id": 1381736285,
          "tag": "geonames_1880251",
          "tag_set": "mc-geocoder@media.mit.edu",
          "tag_sets_id": 1011,
          "tags_id": 8878605
         },
         {
          "stories_id": 1381736285,
          "tag": "nyt_labeller_v1.0.0",
          "tag_set": "nyt_labels_version",
          "tag_sets_id": 1964,
          "tags_id": 9360669
         },
         {
          "stories_id": 1381736285,
          "tag": "medicine and health",
          "tag_set": "nyt_labels",
          "tag_sets_id": 1963,
          "tags_id": 9360852
         },
         {
          "stories_id": 1381736285,
          "tag": "global warming",
          "tag_set": "nyt_labels",
          "tag_sets_id": 1963,
          "tags_id": 9360886
         },
         {
          "stories_id": 1381736285,
          "tag": "New York Times",
          "tag_set": "cliff_organizations",
          "tag_sets_id": 2388,
          "tags_id": 9362756
         },
         {
          "stories_id": 1381736285,
          "tag": "American society",
          "tag_set": "cliff_organizations",
          "tag_sets_id": 2388,
          "tags_id": 9397513
         },
         {
          "stories_id": 1381736285,
          "tag": "Brian Kennedy",
          "tag_set": "cliff_people",
          "tag_sets_id": 2389,
          "tags_id": 9447159
         },
         {
          "stories_id": 1381736285,
          "tag": "GETTY",
          "tag_set": "cliff_people",
          "tag_sets_id": 2389,
          "tags_id": 9575941
         },
         {
          "stories_id": 1381736285,
          "tag": "cliff_clavin_v2.4.1",
          "tag_set": "geocoder_version",
          "tag_sets_id": 1937,
          "tags_id": 9696677
         },
         {
          "stories_id": 1381736285,
          "tag": "Tina Woods",
          "tag_set": "cliff_people",
          "tag_sets_id": 2389,
          "tags_id": 28136918
         },
         {
          "stories_id": 1381736285,
          "tag": "readability-lxml-0.7",
          "tag_set": "extractor_version",
          "tag_sets_id": 1354,
          "tags_id": 81092444
         },
         {
          "stories_id": 1381736285,
          "tag": "Centers for Disease Control show life",
          "tag_set": "cliff_organizations",
          "tag_sets_id": 2388,
          "tags_id": 184615383
         }
        ],
        "title": "Falling Life Expectancy Becoming The &#8216;Climate Change&#8217; Of Health",
        "url": "https://www.schwartzreport.net/falling-life-expectancy-becoming-the-climate-change-of-health/",
        "word_count": null
       },
       {
        "ap_syndicated": false,
        "collect_date": "2019-02-14 07:33:30.115345",
        "feeds": null,
        "guid": "http://www.dailykos.com/stories/1834594",
        "language": "en",
        "media_id": 115,
        "media_name": "Daily Kos",
        "media_url": "http://www.dailykos.com",
        "metadata": {
         "date_guess_method": null,
         "extractor_version": {
          "stories_id": 1194539891,
          "tag": "readability-lxml-0.7",
          "tag_set": "extractor_version",
          "tag_sets_id": 1354,
          "tags_id": 81092444
         },
         "geocoder_version": {
          "stories_id": 1194539891,
          "tag": "cliff_clavin_v2.6.0",
          "tag_set": "geocoder_version",
          "tag_sets_id": 1937,
          "tags_id": 189462640
         },
         "nyt_themes_version": {
          "stories_id": 1194539891,
          "tag": "nyt_labeller_v1.0.0",
          "tag_set": "nyt_labels_version",
          "tag_sets_id": 1964,
          "tags_id": 9360669
         }
        },
        "processed_stories_id": 1983356572,
        "publish_date": "2019-02-14 07:30:22",
        "stories_id": 1194539891,
        "story_tags": [
         {
          "stories_id": 1194539891,
          "tag": "geonames_6252001",
          "tag_set": "mc-geocoder@media.mit.edu",
          "tag_sets_id": 1011,
          "tags_id": 8878461
         },
         {
          "stories_id": 1194539891,
          "tag": "geonames_5332921",
          "tag_set": "mc-geocoder@media.mit.edu",
          "tag_sets_id": 1011,
          "tags_id": 8878533
         },
         {
          "stories_id": 1194539891,
          "tag": "geonames_4740686",
          "tag_set": "mc-geocoder@media.mit.edu",
          "tag_sets_id": 1011,
          "tags_id": 8878595
         },
         {
          "stories_id": 1194539891,
          "tag": "geonames_5350937",
          "tag_set": "mc-geocoder@media.mit.edu",
          "tag_sets_id": 1011,
          "tags_id": 8879090
         },
         {
          "stories_id": 1194539891,
          "tag": "geonames_5325738",
          "tag_set": "mc-geocoder@media.mit.edu",
          "tag_sets_id": 1011,
          "tags_id": 8880533
         },
         {
          "stories_id": 1194539891,
          "tag": "geonames_4756636",
          "tag_set": "mc-geocoder@media.mit.edu",
          "tag_sets_id": 1011,
          "tags_id": 8881052
         },
         {
          "stories_id": 1194539891,
          "tag": "geonames_5143282",
          "tag_set": "mc-geocoder@media.mit.edu",
          "tag_sets_id": 1011,
          "tags_id": 9025421
         },
         {
          "stories_id": 1194539891,
          "tag": "nyt_labeller_v1.0.0",
          "tag_set": "nyt_labels_version",
          "tag_sets_id": 1964,
          "tags_id": 9360669
         },
         {
          "stories_id": 1194539891,
          "tag": "politics and government",
          "tag_set": "nyt_labels",
          "tag_sets_id": 1963,
          "tags_id": 9360836
         },
         {
          "stories_id": 1194539891,
          "tag": "united states politics and government",
          "tag_set": "nyt_labels",
          "tag_sets_id": 1963,
          "tags_id": 9360846
         },
         {
          "stories_id": 1194539891,
          "tag": "international relations",
          "tag_set": "nyt_labels",
          "tag_sets_id": 1963,
          "tags_id": 9360934
         },
         {
          "stories_id": 1194539891,
          "tag": "Donald Trump",
          "tag_set": "cliff_people",
          "tag_sets_id": 2389,
          "tags_id": 9362284
         },
         {
          "stories_id": 1194539891,
          "tag": "CIA",
          "tag_set": "cliff_organizations",
          "tag_sets_id": 2388,
          "tags_id": 9362751
         },
         {
          "stories_id": 1194539891,
          "tag": "New York Times",
          "tag_set": "cliff_organizations",
          "tag_sets_id": 2388,
          "tags_id": 9362756
         },
         {
          "stories_id": 1194539891,
          "tag": "Mike Pompeo",
          "tag_set": "cliff_people",
          "tag_sets_id": 2389,
          "tags_id": 9362758
         },
         {
          "stories_id": 1194539891,
          "tag": "Trump",
          "tag_set": "cliff_organizations",
          "tag_sets_id": 2388,
          "tags_id": 9362787
         },
         {
          "stories_id": 1194539891,
          "tag": "Washington Post",
          "tag_set": "cliff_organizations",
          "tag_sets_id": 2388,
          "tags_id": 9362798
         },
         {
          "stories_id": 1194539891,
          "tag": "Ronald Reagan",
          "tag_set": "cliff_people",
          "tag_sets_id": 2389,
          "tags_id": 9362809
         },
         {
          "stories_id": 1194539891,
          "tag": "GOP",
          "tag_set": "cliff_organizations",
          "tag_sets_id": 2388,
          "tags_id": 9362923
         },
         {
          "stories_id": 1194539891,
          "tag": "state",
          "tag_set": "cliff_organizations",
          "tag_sets_id": 2388,
          "tags_id": 9363067
         },
         {
          "stories_id": 1194539891,
          "tag": "House",
          "tag_set": "cliff_organizations",
          "tag_sets_id": 2388,
          "tags_id": 9363164
         },
         {
          "stories_id": 1194539891,
          "tag": "Chelsea Clinton",
          "tag_set": "cliff_people",
          "tag_sets_id": 2389,
          "tags_id": 9363810
         },
         {
          "stories_id": 1194539891,
          "tag": "Democratic party",
          "tag_set": "cliff_organizations",
          "tag_sets_id": 2388,
          "tags_id": 9363946
         },
         {
          "stories_id": 1194539891,
          "tag": "Nancy Pelosi",
          "tag_set": "cliff_people",
          "tag_sets_id": 2389,
          "tags_id": 9364036
         },
         {
          "stories_id": 1194539891,
          "tag": "Chuck Schumer",
          "tag_set": "cliff_people",
          "tag_sets_id": 2389,
          "tags_id": 9364810
         },
         {
          "stories_id": 1194539891,
          "tag": "Kevin McCarthy",
          "tag_set": "cliff_people",
          "tag_sets_id": 2389,
          "tags_id": 9368746
         },
         {
          "stories_id": 1194539891,
          "tag": "Gavin Newsom",
          "tag_set": "cliff_people",
          "tag_sets_id": 2389,
          "tags_id": 9372682
         },
         {
          "stories_id": 1194539891,
          "tag": "AIPAC",
          "tag_set": "cliff_organizations",
          "tag_sets_id": 2388,
          "tags_id": 9376439
         },
         {
          "stories_id": 1194539891,
          "tag": "George Shultz",
          "tag_set": "cliff_people",
          "tag_sets_id": 2389,
          "tags_id": 9376795
         },
         {
          "stories_id": 1194539891,
          "tag": "American Israel Public Affairs Committee",
          "tag_set": "cliff_organizations",
          "tag_sets_id": 2388,
          "tags_id": 9382750
         },
         {
          "stories_id": 1194539891,
          "tag": "Simon Tisdall",
          "tag_set": "cliff_people",
          "tag_sets_id": 2389,
          "tags_id": 9383562
         },
         {
          "stories_id": 1194539891,
          "tag": "Ed Markey",
          "tag_set": "cliff_people",
          "tag_sets_id": 2389,
          "tags_id": 9387136
         },
         {
          "stories_id": 1194539891,
          "tag": "universal health care",
          "tag_set": "cliff_organizations",
          "tag_sets_id": 2388,
          "tags_id": 9394779
         },
         {
          "stories_id": 1194539891,
          "tag": "Steve King",
          "tag_set": "cliff_people",
          "tag_sets_id": 2389,
          "tags_id": 9395947
         },
         {
          "stories_id": 1194539891,
          "tag": "Queen Elizabeth II",
          "tag_set": "cliff_people",
          "tag_sets_id": 2389,
          "tags_id": 9397194
         },
         {
          "stories_id": 1194539891,
          "tag": "Joseph Roth",
          "tag_set": "cliff_people",
          "tag_sets_id": 2389,
          "tags_id": 9407915
         },
         {
          "stories_id": 1194539891,
          "tag": "Harvard Kennedy School",
          "tag_set": "cliff_organizations",
          "tag_sets_id": 2388,
          "tags_id": 9409285
         },
         {
          "stories_id": 1194539891,
          "tag": "John Foster",
          "tag_set": "cliff_people",
          "tag_sets_id": 2389,
          "tags_id": 9455343
         },
         {
          "stories_id": 1194539891,
          "tag": "James Monroe",
          "tag_set": "cliff_people",
          "tag_sets_id": 2389,
          "tags_id": 9458700
         },
         {
          "stories_id": 1194539891,
          "tag": "Lyndon LaRouche",
          "tag_set": "cliff_people",
          "tag_sets_id": 2389,
          "tags_id": 9459821
         },
         {
          "stories_id": 1194539891,
          "tag": "David Dayen",
          "tag_set": "cliff_people",
          "tag_sets_id": 2389,
          "tags_id": 9461194
         },
         {
          "stories_id": 1194539891,
          "tag": "Ed Kilgore",
          "tag_set": "cliff_people",
          "tag_sets_id": 2389,
          "tags_id": 9463108
         },
         {
          "stories_id": 1194539891,
          "tag": "Khalil Gibran Muhammad",
          "tag_set": "cliff_people",
          "tag_sets_id": 2389,
          "tags_id": 9477891
         },
         {
          "stories_id": 1194539891,
          "tag": "Farhad Manjoo",
          "tag_set": "cliff_people",
          "tag_sets_id": 2389,
          "tags_id": 9519686
         },
         {
          "stories_id": 1194539891,
          "tag": "Henry Olsen",
          "tag_set": "cliff_people",
          "tag_sets_id": 2389,
          "tags_id": 9534251
         },
         {
          "stories_id": 1194539891,
          "tag": "Osita Nwanevu",
          "tag_set": "cliff_people",
          "tag_sets_id": 2389,
          "tags_id": 9534268
         },
         {
          "stories_id": 1194539891,
          "tag": "Emily Atkin",
          "tag_set": "cliff_people",
          "tag_sets_id": 2389,
          "tags_id": 9552802
         },
         {
          "stories_id": 1194539891,
          "tag": "Isaacs",
          "tag_set": "cliff_people",
          "tag_sets_id": 2389,
          "tags_id": 9578041
         },
         {
          "stories_id": 1194539891,
          "tag": "tosh",
          "tag_set": "cliff_people",
          "tag_sets_id": 2389,
          "tags_id": 9580234
         },
         {
          "stories_id": 1194539891,
          "tag": "Benjamins",
          "tag_set": "cliff_organizations",
          "tag_sets_id": 2388,
          "tags_id": 9667605
         },
         {
          "stories_id": 1194539891,
          "tag": "Brooklyn Supreme Court",
          "tag_set": "cliff_organizations",
          "tag_sets_id": 2388,
          "tags_id": 9838928
         },
         {
          "stories_id": 1194539891,
          "tag": "New York City police department",
          "tag_set": "cliff_organizations",
          "tag_sets_id": 2388,
          "tags_id": 9964203
         },
         {
          "stories_id": 1194539891,
          "tag": "Rashida Tlaib",
          "tag_set": "cliff_people",
          "tag_sets_id": 2389,
          "tags_id": 10117183
         },
         {
          "stories_id": 1194539891,
          "tag": "Talia Lavin",
          "tag_set": "cliff_people",
          "tag_sets_id": 2389,
          "tags_id": 10740947
         },
         {
          "stories_id": 1194539891,
          "tag": "Nora Barrows-Friedman",
          "tag_set": "cliff_people",
          "tag_sets_id": 2389,
          "tags_id": 10814312
         },
         {
          "stories_id": 1194539891,
          "tag": "Katherine Goldstein",
          "tag_set": "cliff_people",
          "tag_sets_id": 2389,
          "tags_id": 10986646
         },
         {
          "stories_id": 1194539891,
          "tag": "Kia Gregory",
          "tag_set": "cliff_people",
          "tag_sets_id": 2389,
          "tags_id": 11584261
         },
         {
          "stories_id": 1194539891,
          "tag": "Delrawn",
          "tag_set": "cliff_people",
          "tag_sets_id": 2389,
          "tags_id": 29910886
         },
         {
          "stories_id": 1194539891,
          "tag": "Ady Barkan",
          "tag_set": "cliff_people",
          "tag_sets_id": 2389,
          "tags_id": 31738578
         },
         {
          "stories_id": 1194539891,
          "tag": "Alexandria Ocasio-Cortez",
          "tag_set": "cliff_people",
          "tag_sets_id": 2389,
          "tags_id": 44318694
         },
         {
          "stories_id": 1194539891,
          "tag": "readability-lxml-0.7",
          "tag_set": "extractor_version",
          "tag_sets_id": 1354,
          "tags_id": 81092444
         },
         {
          "stories_id": 1194539891,
          "tag": "Ilhan Omar E.J. Dionne Jr.",
          "tag_set": "cliff_people",
          "tag_sets_id": 2389,
          "tags_id": 132717625
         },
         {
          "stories_id": 1194539891,
          "tag": "Victor] Dempsey",
          "tag_set": "cliff_people",
          "tag_sets_id": 2389,
          "tags_id": 132717626
         },
         {
          "stories_id": 1194539891,
          "tag": "geonames_4371791",
          "tag_set": "mc-geocoder@media.mit.edu",
          "tag_sets_id": 1011,
          "tags_id": 187517608
         },
         {
          "stories_id": 1194539891,
          "tag": "cliff_clavin_v2.6.0",
          "tag_set": "geocoder_version",
          "tag_sets_id": 1937,
          "tags_id": 189462640
         }
        ],
        "title": "Abbreviated pundit round-up: The creepy allure of mini-nukes; standing up for Ilhan Omar",
        "url": "http://www.dailykos.com/stories/1834594",
        "word_count": null
       },
       {
        "ap_syndicated": false,
        "collect_date": "2019-05-16 09:45:14.924679",
        "feeds": null,
        "guid": "https://www.politico.com/story/2019/05/16/de-blasio-campaign-donald-trump-1328257",
        "language": "en",
        "media_id": 18268,
        "media_name": "Politico",
        "media_url": "https://www.politico.com/",
        "metadata": {
         "date_guess_method": null,
         "extractor_version": {
          "stories_id": 1284726958,
          "tag": "readability-lxml-0.7",
          "tag_set": "extractor_version",
          "tag_sets_id": 1354,
          "tags_id": 81092444
         },
         "geocoder_version": {
          "stories_id": 1284726958,
          "tag": "cliff_clavin_v2.4.1",
          "tag_set": "geocoder_version",
          "tag_sets_id": 1937,
          "tags_id": 9696677
         },
         "nyt_themes_version": {
          "stories_id": 1284726958,
          "tag": "nyt_labeller_v1.0.0",
          "tag_set": "nyt_labels_version",
          "tag_sets_id": 1964,
          "tags_id": 9360669
         }
        },
        "processed_stories_id": 1672165952,
        "publish_date": "2019-05-16 09:30:42",
        "stories_id": 1284726958,
        "story_tags": [
         {
          "stories_id": 1284726958,
          "tag": "geonames_6252001",
          "tag_set": "mc-geocoder@media.mit.edu",
          "tag_sets_id": 1011,
          "tags_id": 8878461
         },
         {
          "stories_id": 1284726958,
          "tag": "geonames_5128638",
          "tag_set": "mc-geocoder@media.mit.edu",
          "tag_sets_id": 1011,
          "tags_id": 8878463
         },
         {
          "stories_id": 1284726958,
          "tag": "geonames_4662168",
          "tag_set": "mc-geocoder@media.mit.edu",
          "tag_sets_id": 1011,
          "tags_id": 8878725
         },
         {
          "stories_id": 1284726958,
          "tag": "geonames_4667282",
          "tag_set": "mc-geocoder@media.mit.edu",
          "tag_sets_id": 1011,
          "tags_id": 8879476
         },
         {
          "stories_id": 1284726958,
          "tag": "nyt_labeller_v1.0.0",
          "tag_set": "nyt_labels_version",
          "tag_sets_id": 1964,
          "tags_id": 9360669
         },
         {
          "stories_id": 1284726958,
          "tag": "politics and government",
          "tag_set": "nyt_labels",
          "tag_sets_id": 1963,
          "tags_id": 9360836
         },
         {
          "stories_id": 1284726958,
          "tag": "finances",
          "tag_set": "nyt_labels",
          "tag_sets_id": 1963,
          "tags_id": 9360840
         },
         {
          "stories_id": 1284726958,
          "tag": "united states politics and government",
          "tag_set": "nyt_labels",
          "tag_sets_id": 1963,
          "tags_id": 9360846
         },
         {
          "stories_id": 1284726958,
          "tag": "elections",
          "tag_set": "nyt_labels",
          "tag_sets_id": 1963,
          "tags_id": 9360851
         },
         {
          "stories_id": 1284726958,
          "tag": "presidents and presidency (us)",
          "tag_set": "nyt_labels",
          "tag_sets_id": 1963,
          "tags_id": 9360853
         },
         {
          "stories_id": 1284726958,
          "tag": "primaries",
          "tag_set": "nyt_labels",
          "tag_sets_id": 1963,
          "tags_id": 9360865
         },
         {
          "stories_id": 1284726958,
          "tag": "taxation",
          "tag_set": "nyt_labels",
          "tag_sets_id": 1963,
          "tags_id": 9360882
         },
         {
          "stories_id": 1284726958,
          "tag": "election issues",
          "tag_set": "nyt_labels",
          "tag_sets_id": 1963,
          "tags_id": 9360896
         },
         {
          "stories_id": 1284726958,
          "tag": "mayors",
          "tag_set": "nyt_labels",
          "tag_sets_id": 1963,
          "tags_id": 9360964
         },
         {
          "stories_id": 1284726958,
          "tag": "Donald Trump",
          "tag_set": "cliff_people",
          "tag_sets_id": 2389,
          "tags_id": 9362284
         },
         {
          "stories_id": 1284726958,
          "tag": "Trump administration",
          "tag_set": "cliff_organizations",
          "tag_sets_id": 2388,
          "tags_id": 9362998
         },
         {
          "stories_id": 1284726958,
          "tag": "Bill de Blasio",
          "tag_set": "cliff_people",
          "tag_sets_id": 2389,
          "tags_id": 9365833
         },
         {
          "stories_id": 1284726958,
          "tag": "de Blasio",
          "tag_set": "cliff_organizations",
          "tag_sets_id": 2388,
          "tags_id": 9547781
         },
         {
          "stories_id": 1284726958,
          "tag": "cliff_clavin_v2.4.1",
          "tag_set": "geocoder_version",
          "tag_sets_id": 1937,
          "tags_id": 9696677
         },
         {
          "stories_id": 1284726958,
          "tag": "readability-lxml-0.7",
          "tag_set": "extractor_version",
          "tag_sets_id": 1354,
          "tags_id": 81092444
         }
        ],
        "title": "Trump on de Blasio: 'NYC HATES HIM!'",
        "url": "https://www.politico.com/story/2019/05/16/de-blasio-campaign-donald-trump-1328257",
        "word_count": null
       },
       {
        "ap_syndicated": false,
        "collect_date": "2019-12-09 09:25:56.474147",
        "feeds": null,
        "guid": "https://qz.com/1763389/auto-draft/",
        "language": "en",
        "media_id": 67264,
        "media_name": "Quartz",
        "media_url": "http://qz.com/#spider",
        "metadata": {
         "date_guess_method": null,
         "extractor_version": {
          "stories_id": 1465350539,
          "tag": "readability-lxml-0.7",
          "tag_set": "extractor_version",
          "tag_sets_id": 1354,
          "tags_id": 81092444
         },
         "geocoder_version": {
          "stories_id": 1465350539,
          "tag": "cliff_clavin_v2.6.0",
          "tag_set": "geocoder_version",
          "tag_sets_id": 1937,
          "tags_id": 189462640
         },
         "nyt_themes_version": {
          "stories_id": 1465350539,
          "tag": "nyt_labeller_v1.0.0",
          "tag_set": "nyt_labels_version",
          "tag_sets_id": 1964,
          "tags_id": 9360669
         }
        },
        "processed_stories_id": 1860945271,
        "publish_date": "2019-12-09 09:00:28",
        "stories_id": 1465350539,
        "story_tags": [
         {
          "stories_id": 1465350539,
          "tag": "geonames_6252001",
          "tag_set": "mc-geocoder@media.mit.edu",
          "tag_sets_id": 1011,
          "tags_id": 8878461
         },
         {
          "stories_id": 1465350539,
          "tag": "geonames_2638360",
          "tag_set": "mc-geocoder@media.mit.edu",
          "tag_sets_id": 1011,
          "tags_id": 8879119
         },
         {
          "stories_id": 1465350539,
          "tag": "nyt_labeller_v1.0.0",
          "tag_set": "nyt_labels_version",
          "tag_sets_id": 1964,
          "tags_id": 9360669
         },
         {
          "stories_id": 1465350539,
          "tag": "education and schools",
          "tag_set": "nyt_labels",
          "tag_sets_id": 1963,
          "tags_id": 9360833
         },
         {
          "stories_id": 1465350539,
          "tag": "books and literature",
          "tag_set": "nyt_labels",
          "tag_sets_id": 1963,
          "tags_id": 9360844
         },
         {
          "stories_id": 1465350539,
          "tag": "colleges and universities",
          "tag_set": "nyt_labels",
          "tag_sets_id": 1963,
          "tags_id": 9360861
         },
         {
          "stories_id": 1465350539,
          "tag": "Columbia Business School",
          "tag_set": "cliff_organizations",
          "tag_sets_id": 2388,
          "tags_id": 9366661
         },
         {
          "stories_id": 1465350539,
          "tag": "Massachusetts Institute of Technology",
          "tag_set": "cliff_organizations",
          "tag_sets_id": 2388,
          "tags_id": 9377734
         },
         {
          "stories_id": 1465350539,
          "tag": "Aspen Institute",
          "tag_set": "cliff_organizations",
          "tag_sets_id": 2388,
          "tags_id": 9461128
         },
         {
          "stories_id": 1465350539,
          "tag": "institute",
          "tag_set": "cliff_organizations",
          "tag_sets_id": 2388,
          "tags_id": 9465454
         },
         {
          "stories_id": 1465350539,
          "tag": "Monash University",
          "tag_set": "cliff_organizations",
          "tag_sets_id": 2388,
          "tags_id": 9473855
         },
         {
          "stories_id": 1465350539,
          "tag": "Sloan School of Management",
          "tag_set": "cliff_organizations",
          "tag_sets_id": 2388,
          "tags_id": 9530604
         },
         {
          "stories_id": 1465350539,
          "tag": "Judy Samuelson",
          "tag_set": "cliff_people",
          "tag_sets_id": 2389,
          "tags_id": 9719999
         },
         {
          "stories_id": 1465350539,
          "tag": "Christine Kelly",
          "tag_set": "cliff_people",
          "tag_sets_id": 2389,
          "tags_id": 10804553
         },
         {
          "stories_id": 1465350539,
          "tag": "Tuck School of Business",
          "tag_set": "cliff_organizations",
          "tag_sets_id": 2388,
          "tags_id": 10949000
         },
         {
          "stories_id": 1465350539,
          "tag": "Monash Business School",
          "tag_set": "cliff_organizations",
          "tag_sets_id": 2388,
          "tags_id": 11010303
         },
         {
          "stories_id": 1465350539,
          "tag": "Thomas Kochan",
          "tag_set": "cliff_people",
          "tag_sets_id": 2389,
          "tags_id": 11596679
         },
         {
          "stories_id": 1465350539,
          "tag": "Barbara Dyer",
          "tag_set": "cliff_people",
          "tag_sets_id": 2389,
          "tags_id": 20504838
         },
         {
          "stories_id": 1465350539,
          "tag": "Ivey Business School",
          "tag_set": "cliff_organizations",
          "tag_sets_id": 2388,
          "tags_id": 21168700
         },
         {
          "stories_id": 1465350539,
          "tag": "Leigh Hafrey",
          "tag_set": "cliff_people",
          "tag_sets_id": 2389,
          "tags_id": 29699041
         },
         {
          "stories_id": 1465350539,
          "tag": "Alessandro Ghio",
          "tag_set": "cliff_people",
          "tag_sets_id": 2389,
          "tags_id": 31263109
         },
         {
          "stories_id": 1465350539,
          "tag": "Lazaridis School of Business",
          "tag_set": "cliff_organizations",
          "tag_sets_id": 2388,
          "tags_id": 33246147
         },
         {
          "stories_id": 1465350539,
          "tag": "USA Lab",
          "tag_set": "cliff_organizations",
          "tag_sets_id": 2388,
          "tags_id": 70802018
         },
         {
          "stories_id": 1465350539,
          "tag": "readability-lxml-0.7",
          "tag_set": "extractor_version",
          "tag_sets_id": 1354,
          "tags_id": 81092444
         },
         {
          "stories_id": 1465350539,
          "tag": "Nick McGuigan",
          "tag_set": "cliff_people",
          "tag_sets_id": 2389,
          "tags_id": 114022113
         },
         {
          "stories_id": 1465350539,
          "tag": "cliff_clavin_v2.6.0",
          "tag_set": "geocoder_version",
          "tag_sets_id": 1937,
          "tags_id": 189462640
         },
         {
          "stories_id": 1465350539,
          "tag": "Arjaliès Western University",
          "tag_set": "cliff_organizations",
          "tag_sets_id": 2388,
          "tags_id": 191552857
         },
         {
          "stories_id": 1465350539,
          "tag": "John Byrd University of Colorado Denver Business School",
          "tag_set": "cliff_organizations",
          "tag_sets_id": 2388,
          "tags_id": 191552858
         },
         {
          "stories_id": 1465350539,
          "tag": "Sarah Birrell Ivory University of Edinburgh Business School",
          "tag_set": "cliff_organizations",
          "tag_sets_id": 2388,
          "tags_id": 191552859
         },
         {
          "stories_id": 1465350539,
          "tag": "Global Economy Matthew J. Slaughter Dartmouth College",
          "tag_set": "cliff_organizations",
          "tag_sets_id": 2388,
          "tags_id": 191552860
         },
         {
          "stories_id": 1465350539,
          "tag": "Joshua Skov University of Oregon, Lundquist College of Business",
          "tag_set": "cliff_organizations",
          "tag_sets_id": 2388,
          "tags_id": 191552861
         },
         {
          "stories_id": 1465350539,
          "tag": "Barry M. Mitnick University of Pittsburgh, College of Business Administration",
          "tag_set": "cliff_organizations",
          "tag_sets_id": 2388,
          "tags_id": 191552862
         },
         {
          "stories_id": 1465350539,
          "tag": "Society Kalyani Menon Wilfrid Laurier University",
          "tag_set": "cliff_organizations",
          "tag_sets_id": 2388,
          "tags_id": 191552863
         },
         {
          "stories_id": 1465350539,
          "tag": "Bo Cowgill Columbia University",
          "tag_set": "cliff_organizations",
          "tag_sets_id": 2388,
          "tags_id": 191552864
         }
        ],
        "title": "The 10 most forward-thinking business courses of 2019",
        "url": "https://qz.com/work/1763389/aspen-institute-names-10-mba-courses-reinventing-business-schools/",
        "word_count": null
       },
       {
        "ap_syndicated": false,
        "collect_date": "2019-12-12 09:54:35.119674",
        "feeds": null,
        "guid": "https://www.usnews.com/news/world/articles/2019-12-12/hungary-pm-outlines-conditions-for-eu-2050-climate-pact",
        "language": "en",
        "media_id": 1100,
        "media_name": "US News & World Report ",
        "media_url": "http://www.usnews.com/",
        "metadata": {
         "date_guess_method": null,
         "extractor_version": {
          "stories_id": 1468431200,
          "tag": "readability-lxml-0.7",
          "tag_set": "extractor_version",
          "tag_sets_id": 1354,
          "tags_id": 81092444
         },
         "geocoder_version": {
          "stories_id": 1468431200,
          "tag": "cliff_clavin_v2.6.0",
          "tag_set": "geocoder_version",
          "tag_sets_id": 1937,
          "tags_id": 189462640
         },
         "nyt_themes_version": {
          "stories_id": 1468431200,
          "tag": "nyt_labeller_v1.0.0",
          "tag_set": "nyt_labels_version",
          "tag_sets_id": 1964,
          "tags_id": 9360669
         }
        },
        "processed_stories_id": 1864107952,
        "publish_date": "2019-12-12 08:55:58",
        "stories_id": 1468431200,
        "story_tags": [
         {
          "stories_id": 1468431200,
          "tag": "geonames_719819",
          "tag_set": "mc-geocoder@media.mit.edu",
          "tag_sets_id": 1011,
          "tags_id": 8879042
         },
         {
          "stories_id": 1468431200,
          "tag": "geonames_3054638",
          "tag_set": "mc-geocoder@media.mit.edu",
          "tag_sets_id": 1011,
          "tags_id": 8880535
         },
         {
          "stories_id": 1468431200,
          "tag": "geonames_3054643",
          "tag_set": "mc-geocoder@media.mit.edu",
          "tag_sets_id": 1011,
          "tags_id": 8880541
         },
         {
          "stories_id": 1468431200,
          "tag": "nyt_labeller_v1.0.0",
          "tag_set": "nyt_labels_version",
          "tag_sets_id": 1964,
          "tags_id": 9360669
         },
         {
          "stories_id": 1468431200,
          "tag": "politics and government",
          "tag_set": "nyt_labels",
          "tag_sets_id": 1963,
          "tags_id": 9360836
         },
         {
          "stories_id": 1468431200,
          "tag": "global warming",
          "tag_set": "nyt_labels",
          "tag_sets_id": 1963,
          "tags_id": 9360886
         },
         {
          "stories_id": 1468431200,
          "tag": "environment",
          "tag_set": "nyt_labels",
          "tag_sets_id": 1963,
          "tags_id": 9360887
         },
         {
          "stories_id": 1468431200,
          "tag": "weather",
          "tag_set": "nyt_labels",
          "tag_sets_id": 1963,
          "tags_id": 9360902
         },
         {
          "stories_id": 1468431200,
          "tag": "air pollution",
          "tag_set": "nyt_labels",
          "tag_sets_id": 1963,
          "tags_id": 9361007
         },
         {
          "stories_id": 1468431200,
          "tag": "electric light and power",
          "tag_set": "nyt_labels",
          "tag_sets_id": 1963,
          "tags_id": 9361013
         },
         {
          "stories_id": 1468431200,
          "tag": "light",
          "tag_set": "nyt_labels",
          "tag_sets_id": 1963,
          "tags_id": 9361014
         },
         {
          "stories_id": 1468431200,
          "tag": "Reuters",
          "tag_set": "cliff_organizations",
          "tag_sets_id": 2388,
          "tags_id": 9362267
         },
         {
          "stories_id": 1468431200,
          "tag": "EU",
          "tag_set": "cliff_organizations",
          "tag_sets_id": 2388,
          "tags_id": 9363241
         },
         {
          "stories_id": 1468431200,
          "tag": "Andrew Heavens",
          "tag_set": "cliff_people",
          "tag_sets_id": 2389,
          "tags_id": 9374971
         },
         {
          "stories_id": 1468431200,
          "tag": "Viktor Orban",
          "tag_set": "cliff_people",
          "tag_sets_id": 2389,
          "tags_id": 9377332
         },
         {
          "stories_id": 1468431200,
          "tag": "Marton Dunai",
          "tag_set": "cliff_people",
          "tag_sets_id": 2389,
          "tags_id": 11589651
         },
         {
          "stories_id": 1468431200,
          "tag": "readability-lxml-0.7",
          "tag_set": "extractor_version",
          "tag_sets_id": 1354,
          "tags_id": 81092444
         },
         {
          "stories_id": 1468431200,
          "tag": "cliff_clavin_v2.6.0",
          "tag_set": "geocoder_version",
          "tag_sets_id": 1937,
          "tags_id": 189462640
         }
        ],
        "title": "Hungary PM Outlines Conditions for EU 2050 Climate Pact",
        "url": "https://www.usnews.com/news/world/articles/2019-12-12/hungary-pm-outlines-conditions-for-eu-2050-climate-pact",
        "word_count": null
       },
       {
        "ap_syndicated": false,
        "collect_date": "2019-10-05 10:45:38.833478",
        "feeds": null,
        "guid": "https://www.usatoday.com/story/news/nation/2019/10/05/climate-change-worsen-diseases-equine-encephalitis-west-nile-dengue-fever/3859382002/",
        "language": "en",
        "media_id": 4,
        "media_name": "USA Today",
        "media_url": "http://www.usatoday.com",
        "metadata": {
         "date_guess_method": null,
         "extractor_version": {
          "stories_id": 1411126858,
          "tag": "readability-lxml-0.7",
          "tag_set": "extractor_version",
          "tag_sets_id": 1354,
          "tags_id": 81092444
         },
         "geocoder_version": {
          "stories_id": 1411126858,
          "tag": "cliff_clavin_v2.4.1",
          "tag_set": "geocoder_version",
          "tag_sets_id": 1937,
          "tags_id": 9696677
         },
         "nyt_themes_version": {
          "stories_id": 1411126858,
          "tag": "nyt_labeller_v1.0.0",
          "tag_set": "nyt_labels_version",
          "tag_sets_id": 1964,
          "tags_id": 9360669
         }
        },
        "processed_stories_id": 1804817414,
        "publish_date": "2019-10-05 10:03:58",
        "stories_id": 1411126858,
        "story_tags": [
         {
          "stories_id": 1411126858,
          "tag": "geonames_6252001",
          "tag_set": "mc-geocoder@media.mit.edu",
          "tag_sets_id": 1011,
          "tags_id": 8878461
         },
         {
          "stories_id": 1411126858,
          "tag": "geonames_5332921",
          "tag_set": "mc-geocoder@media.mit.edu",
          "tag_sets_id": 1011,
          "tags_id": 8878533
         },
         {
          "stories_id": 1411126858,
          "tag": "geonames_5391959",
          "tag_set": "mc-geocoder@media.mit.edu",
          "tag_sets_id": 1011,
          "tags_id": 8878536
         },
         {
          "stories_id": 1411126858,
          "tag": "geonames_4736286",
          "tag_set": "mc-geocoder@media.mit.edu",
          "tag_sets_id": 1011,
          "tags_id": 8878538
         },
         {
          "stories_id": 1411126858,
          "tag": "geonames_4331987",
          "tag_set": "mc-geocoder@media.mit.edu",
          "tag_sets_id": 1011,
          "tags_id": 8878576
         },
         {
          "stories_id": 1411126858,
          "tag": "geonames_4684888",
          "tag_set": "mc-geocoder@media.mit.edu",
          "tag_sets_id": 1011,
          "tags_id": 8878901
         },
         {
          "stories_id": 1411126858,
          "tag": "geonames_5380748",
          "tag_set": "mc-geocoder@media.mit.edu",
          "tag_sets_id": 1011,
          "tags_id": 8879337
         },
         {
          "stories_id": 1411126858,
          "tag": "geonames_4329753",
          "tag_set": "mc-geocoder@media.mit.edu",
          "tag_sets_id": 1011,
          "tags_id": 8901630
         },
         {
          "stories_id": 1411126858,
          "tag": "nyt_labeller_v1.0.0",
          "tag_set": "nyt_labels_version",
          "tag_sets_id": 1964,
          "tags_id": 9360669
         },
         {
          "stories_id": 1411126858,
          "tag": "medicine and health",
          "tag_set": "nyt_labels",
          "tag_sets_id": 1963,
          "tags_id": 9360852
         },
         {
          "stories_id": 1411126858,
          "tag": "global warming",
          "tag_set": "nyt_labels",
          "tag_sets_id": 1963,
          "tags_id": 9360886
         },
         {
          "stories_id": 1411126858,
          "tag": "environment",
          "tag_set": "nyt_labels",
          "tag_sets_id": 1963,
          "tags_id": 9360887
         },
         {
          "stories_id": 1411126858,
          "tag": "weather",
          "tag_set": "nyt_labels",
          "tag_sets_id": 1963,
          "tags_id": 9360902
         },
         {
          "stories_id": 1411126858,
          "tag": "floods",
          "tag_set": "nyt_labels",
          "tag_sets_id": 1963,
          "tags_id": 9360927
         },
         {
          "stories_id": 1411126858,
          "tag": "diseases and conditions",
          "tag_set": "nyt_labels",
          "tag_sets_id": 1963,
          "tags_id": 9360942
         },
         {
          "stories_id": 1411126858,
          "tag": "research",
          "tag_set": "nyt_labels",
          "tag_sets_id": 1963,
          "tags_id": 9361083
         },
         {
          "stories_id": 1411126858,
          "tag": "insects",
          "tag_set": "nyt_labels",
          "tag_sets_id": 1963,
          "tags_id": 9361144
         },
         {
          "stories_id": 1411126858,
          "tag": "University of California",
          "tag_set": "cliff_organizations",
          "tag_sets_id": 2388,
          "tags_id": 9363455
         },
         {
          "stories_id": 1411126858,
          "tag": "NASA",
          "tag_set": "cliff_organizations",
          "tag_sets_id": 2388,
          "tags_id": 9364494
         },
         {
          "stories_id": 1411126858,
          "tag": "CDC",
          "tag_set": "cliff_organizations",
          "tag_sets_id": 2388,
          "tags_id": 9364831
         },
         {
          "stories_id": 1411126858,
          "tag": "Stanford University",
          "tag_set": "cliff_organizations",
          "tag_sets_id": 2388,
          "tags_id": 9367230
         },
         {
          "stories_id": 1411126858,
          "tag": "Centers for Disease Control and Prevention",
          "tag_set": "cliff_organizations",
          "tag_sets_id": 2388,
          "tags_id": 9368621
         },
         {
          "stories_id": 1411126858,
          "tag": "National Institutes of Health",
          "tag_set": "cliff_organizations",
          "tag_sets_id": 2388,
          "tags_id": 9397848
         },
         {
          "stories_id": 1411126858,
          "tag": "UCSF",
          "tag_set": "cliff_organizations",
          "tag_sets_id": 2388,
          "tags_id": 9407146
         },
         {
          "stories_id": 1411126858,
          "tag": "hatch",
          "tag_set": "cliff_people",
          "tag_sets_id": 2389,
          "tags_id": 9486908
         },
         {
          "stories_id": 1411126858,
          "tag": "University of Texas Southwestern Medical Center",
          "tag_set": "cliff_organizations",
          "tag_sets_id": 2388,
          "tags_id": 9513610
         },
         {
          "stories_id": 1411126858,
          "tag": "Vibrio vulnificus",
          "tag_set": "cliff_people",
          "tag_sets_id": 2389,
          "tags_id": 9660197
         },
         {
          "stories_id": 1411126858,
          "tag": "cliff_clavin_v2.4.1",
          "tag_set": "geocoder_version",
          "tag_sets_id": 1937,
          "tags_id": 9696677
         },
         {
          "stories_id": 1411126858,
          "tag": "George Rutherford",
          "tag_set": "cliff_people",
          "tag_sets_id": 2389,
          "tags_id": 10046105
         },
         {
          "stories_id": 1411126858,
          "tag": "Naegleria fowleri",
          "tag_set": "cliff_organizations",
          "tag_sets_id": 2388,
          "tags_id": 10207240
         },
         {
          "stories_id": 1411126858,
          "tag": "Erin Mordecai",
          "tag_set": "cliff_people",
          "tag_sets_id": 2389,
          "tags_id": 11125400
         },
         {
          "stories_id": 1411126858,
          "tag": "Yair Lotan",
          "tag_set": "cliff_people",
          "tag_sets_id": 2389,
          "tags_id": 11682446
         },
         {
          "stories_id": 1411126858,
          "tag": "readability-lxml-0.7",
          "tag_set": "extractor_version",
          "tag_sets_id": 1354,
          "tags_id": 81092444
         },
         {
          "stories_id": 1411126858,
          "tag": "Dineose Vargas",
          "tag_set": "cliff_people",
          "tag_sets_id": 2389,
          "tags_id": 182967785
         }
        ],
        "title": "Diseases like West Nile, EEE and flesh-eating bacteria are flourishing due to climate change",
        "url": "http://rssfeeds.usatoday.com/~/607473538/0/usatoday-newstopstories~Diseases-like-West-Nile-EEE-and-flesheating-bacteria-are-flourishing-due-to-climate-change/",
        "word_count": null
       },
       {
        "ap_syndicated": false,
        "collect_date": "2019-06-12 15:53:05.549837",
        "feeds": null,
        "guid": "http://www.thecentersquare.com/tncms/asset/editorial/cf056fec-8d47-11e9-bc7f-13c219555301",
        "language": "en",
        "media_id": 29100,
        "media_name": "watchdog.org",
        "media_url": "http://watchdog.org#spider",
        "metadata": {
         "date_guess_method": null,
         "extractor_version": {
          "stories_id": 1309652075,
          "tag": "readability-lxml-0.7",
          "tag_set": "extractor_version",
          "tag_sets_id": 1354,
          "tags_id": 81092444
         },
         "geocoder_version": {
          "stories_id": 1309652075,
          "tag": "cliff_clavin_v2.4.1",
          "tag_set": "geocoder_version",
          "tag_sets_id": 1937,
          "tags_id": 9696677
         },
         "nyt_themes_version": {
          "stories_id": 1309652075,
          "tag": "nyt_labeller_v1.0.0",
          "tag_set": "nyt_labels_version",
          "tag_sets_id": 1964,
          "tags_id": 9360669
         }
        },
        "processed_stories_id": 1700381928,
        "publish_date": "2019-06-12 15:37:00",
        "stories_id": 1309652075,
        "story_tags": [
         {
          "stories_id": 1309652075,
          "tag": "geonames_6252001",
          "tag_set": "mc-geocoder@media.mit.edu",
          "tag_sets_id": 1011,
          "tags_id": 8878461
         },
         {
          "stories_id": 1309652075,
          "tag": "geonames_4155751",
          "tag_set": "mc-geocoder@media.mit.edu",
          "tag_sets_id": 1011,
          "tags_id": 8878477
         },
         {
          "stories_id": 1309652075,
          "tag": "geonames_4169171",
          "tag_set": "mc-geocoder@media.mit.edu",
          "tag_sets_id": 1011,
          "tags_id": 8885825
         },
         {
          "stories_id": 1309652075,
          "tag": "nyt_labeller_v1.0.0",
          "tag_set": "nyt_labels_version",
          "tag_sets_id": 1964,
          "tags_id": 9360669
         },
         {
          "stories_id": 1309652075,
          "tag": "suits and litigation",
          "tag_set": "nyt_labels",
          "tag_sets_id": 1963,
          "tags_id": 9360860
         },
         {
          "stories_id": 1309652075,
          "tag": "environment",
          "tag_set": "nyt_labels",
          "tag_sets_id": 1963,
          "tags_id": 9360887
         },
         {
          "stories_id": 1309652075,
          "tag": "water",
          "tag_set": "nyt_labels",
          "tag_sets_id": 1963,
          "tags_id": 9361151
         },
         {
          "stories_id": 1309652075,
          "tag": "water pollution",
          "tag_set": "nyt_labels",
          "tag_sets_id": 1963,
          "tags_id": 9361279
         },
         {
          "stories_id": 1309652075,
          "tag": "U.S. Environmental Protection Agency",
          "tag_set": "cliff_organizations",
          "tag_sets_id": 2388,
          "tags_id": 9371301
         },
         {
          "stories_id": 1309652075,
          "tag": "Corps",
          "tag_set": "cliff_organizations",
          "tag_sets_id": 2388,
          "tags_id": 9378859
         },
         {
          "stories_id": 1309652075,
          "tag": "Army Corps",
          "tag_set": "cliff_organizations",
          "tag_sets_id": 2388,
          "tags_id": 9386226
         },
         {
          "stories_id": 1309652075,
          "tag": "Herbert Hoover",
          "tag_set": "cliff_people",
          "tag_sets_id": 2389,
          "tags_id": 9387570
         },
         {
          "stories_id": 1309652075,
          "tag": "Ron DeSantis",
          "tag_set": "cliff_people",
          "tag_sets_id": 2389,
          "tags_id": 9453820
         },
         {
          "stories_id": 1309652075,
          "tag": "DEP",
          "tag_set": "cliff_organizations",
          "tag_sets_id": 2388,
          "tags_id": 9457567
         },
         {
          "stories_id": 1309652075,
          "tag": "U.S. Army Corps of Engineers",
          "tag_set": "cliff_organizations",
          "tag_sets_id": 2388,
          "tags_id": 9458051
         },
         {
          "stories_id": 1309652075,
          "tag": "National Marine Fisheries Service",
          "tag_set": "cliff_organizations",
          "tag_sets_id": 2388,
          "tags_id": 9460547
         },
         {
          "stories_id": 1309652075,
          "tag": "USFWS",
          "tag_set": "cliff_organizations",
          "tag_sets_id": 2388,
          "tags_id": 9466830
         },
         {
          "stories_id": 1309652075,
          "tag": "U.S. House Appropriations Committee",
          "tag_set": "cliff_organizations",
          "tag_sets_id": 2388,
          "tags_id": 9500529
         },
         {
          "stories_id": 1309652075,
          "tag": "U.S. Fish & Wildlife Service",
          "tag_set": "cliff_organizations",
          "tag_sets_id": 2388,
          "tags_id": 9615888
         },
         {
          "stories_id": 1309652075,
          "tag": "cliff_clavin_v2.4.1",
          "tag_set": "geocoder_version",
          "tag_sets_id": 1937,
          "tags_id": 9696677
         },
         {
          "stories_id": 1309652075,
          "tag": "Florida Department of Environmental Protection",
          "tag_set": "cliff_organizations",
          "tag_sets_id": 2388,
          "tags_id": 9753649
         },
         {
          "stories_id": 1309652075,
          "tag": "NMFS",
          "tag_set": "cliff_organizations",
          "tag_sets_id": 2388,
          "tags_id": 10116898
         },
         {
          "stories_id": 1309652075,
          "tag": "Waterkeeper Alliance",
          "tag_set": "cliff_organizations",
          "tag_sets_id": 2388,
          "tags_id": 10269022
         },
         {
          "stories_id": 1309652075,
          "tag": "Marc Yaggi",
          "tag_set": "cliff_people",
          "tag_sets_id": 2389,
          "tags_id": 10331371
         },
         {
          "stories_id": 1309652075,
          "tag": "Okeechobee",
          "tag_set": "cliff_people",
          "tag_sets_id": 2389,
          "tags_id": 10909878
         },
         {
          "stories_id": 1309652075,
          "tag": "geonames_4149641",
          "tag_set": "mc-geocoder@media.mit.edu",
          "tag_sets_id": 1011,
          "tags_id": 11260494
         },
         {
          "stories_id": 1309652075,
          "tag": "John Haughey",
          "tag_set": "cliff_people",
          "tag_sets_id": 2389,
          "tags_id": 13866511
         },
         {
          "stories_id": 1309652075,
          "tag": "Jaclyn Lopez",
          "tag_set": "cliff_people",
          "tag_sets_id": 2389,
          "tags_id": 29287374
         },
         {
          "stories_id": 1309652075,
          "tag": "St. Lucie estuaries",
          "tag_set": "cliff_organizations",
          "tag_sets_id": 2388,
          "tags_id": 29326554
         },
         {
          "stories_id": 1309652075,
          "tag": "John Cassani",
          "tag_set": "cliff_people",
          "tag_sets_id": 2389,
          "tags_id": 29358318
         },
         {
          "stories_id": 1309652075,
          "tag": "Marty Baum",
          "tag_set": "cliff_people",
          "tag_sets_id": 2389,
          "tags_id": 51284282
         },
         {
          "stories_id": 1309652075,
          "tag": "EAA reservoir",
          "tag_set": "cliff_organizations",
          "tag_sets_id": 2388,
          "tags_id": 68310549
         },
         {
          "stories_id": 1309652075,
          "tag": "readability-lxml-0.7",
          "tag_set": "extractor_version",
          "tag_sets_id": 1354,
          "tags_id": 81092444
         }
        ],
        "title": "As toxic algae blooms spawn, suit demands Lake O discharges stop",
        "url": "https://www.thecentersquare.com/florida/as-toxic-algae-blooms-spawn-suit-demands-lake-o-discharges/article_cf056fec-8d47-11e9-bc7f-13c219555301.html",
        "word_count": null
       },
       {
        "ap_syndicated": true,
        "collect_date": "2019-04-15 10:31:03.376450",
        "feeds": null,
        "guid": "http://feedproxy.google.com/~r/breitbart/~3/PYGCxtmY4E8/",
        "language": "en",
        "media_id": 19334,
        "media_name": "Breitbart",
        "media_url": "http://www.breitbart.com",
        "metadata": {
         "date_guess_method": null,
         "extractor_version": {
          "stories_id": 1252399517,
          "tag": "readability-lxml-0.7",
          "tag_set": "extractor_version",
          "tag_sets_id": 1354,
          "tags_id": 81092444
         },
         "geocoder_version": {
          "stories_id": 1252399517,
          "tag": "cliff_clavin_v2.4.1",
          "tag_set": "geocoder_version",
          "tag_sets_id": 1937,
          "tags_id": 9696677
         },
         "nyt_themes_version": {
          "stories_id": 1252399517,
          "tag": "nyt_labeller_v1.0.0",
          "tag_set": "nyt_labels_version",
          "tag_sets_id": 1964,
          "tags_id": 9360669
         }
        },
        "processed_stories_id": 1636799128,
        "publish_date": "2019-03-30 22:32:55",
        "stories_id": 1252399517,
        "story_tags": [
         {
          "stories_id": 1252399517,
          "tag": "geonames_6252001",
          "tag_set": "mc-geocoder@media.mit.edu",
          "tag_sets_id": 1011,
          "tags_id": 8878461
         },
         {
          "stories_id": 1252399517,
          "tag": "geonames_4736286",
          "tag_set": "mc-geocoder@media.mit.edu",
          "tag_sets_id": 1011,
          "tags_id": 8878538
         },
         {
          "stories_id": 1252399517,
          "tag": "geonames_5667009",
          "tag_set": "mc-geocoder@media.mit.edu",
          "tag_sets_id": 1011,
          "tags_id": 8878783
         },
         {
          "stories_id": 1252399517,
          "tag": "geonames_5079614",
          "tag_set": "mc-geocoder@media.mit.edu",
          "tag_sets_id": 1011,
          "tags_id": 8911585
         },
         {
          "stories_id": 1252399517,
          "tag": "geonames_4684678",
          "tag_set": "mc-geocoder@media.mit.edu",
          "tag_sets_id": 1011,
          "tags_id": 9026865
         },
         {
          "stories_id": 1252399517,
          "tag": "nyt_labeller_v1.0.0",
          "tag_set": "nyt_labels_version",
          "tag_sets_id": 1964,
          "tags_id": 9360669
         },
         {
          "stories_id": 1252399517,
          "tag": "politics and government",
          "tag_set": "nyt_labels",
          "tag_sets_id": 1963,
          "tags_id": 9360836
         },
         {
          "stories_id": 1252399517,
          "tag": "suits and litigation",
          "tag_set": "nyt_labels",
          "tag_sets_id": 1963,
          "tags_id": 9360860
         },
         {
          "stories_id": 1252399517,
          "tag": "oil (petroleum) and gasoline",
          "tag_set": "nyt_labels",
          "tag_sets_id": 1963,
          "tags_id": 9360884
         },
         {
          "stories_id": 1252399517,
          "tag": "environment",
          "tag_set": "nyt_labels",
          "tag_sets_id": 1963,
          "tags_id": 9360887
         },
         {
          "stories_id": 1252399517,
          "tag": "Donald Trump",
          "tag_set": "cliff_people",
          "tag_sets_id": 2389,
          "tags_id": 9362284
         },
         {
          "stories_id": 1252399517,
          "tag": "White House",
          "tag_set": "cliff_organizations",
          "tag_sets_id": 2388,
          "tags_id": 9362736
         },
         {
          "stories_id": 1252399517,
          "tag": "Barack Obama",
          "tag_set": "cliff_people",
          "tag_sets_id": 2389,
          "tags_id": 9362763
         },
         {
          "stories_id": 1252399517,
          "tag": "Associated Press",
          "tag_set": "cliff_organizations",
          "tag_sets_id": 2388,
          "tags_id": 9362784
         },
         {
          "stories_id": 1252399517,
          "tag": "AP",
          "tag_set": "cliff_organizations",
          "tag_sets_id": 2388,
          "tags_id": 9362920
         },
         {
          "stories_id": 1252399517,
          "tag": "Yellowstone",
          "tag_set": "cliff_organizations",
          "tag_sets_id": 2388,
          "tags_id": 9364162
         },
         {
          "stories_id": 1252399517,
          "tag": "Chamber of Commerce",
          "tag_set": "cliff_organizations",
          "tag_sets_id": 2388,
          "tags_id": 9364458
         },
         {
          "stories_id": 1252399517,
          "tag": "U.S. State Department",
          "tag_set": "cliff_organizations",
          "tag_sets_id": 2388,
          "tags_id": 9364993
         },
         {
          "stories_id": 1252399517,
          "tag": "Harvard University",
          "tag_set": "cliff_organizations",
          "tag_sets_id": 2388,
          "tags_id": 9367242
         },
         {
          "stories_id": 1252399517,
          "tag": "Keystone",
          "tag_set": "cliff_organizations",
          "tag_sets_id": 2388,
          "tags_id": 9368394
         },
         {
          "stories_id": 1252399517,
          "tag": "Baker",
          "tag_set": "cliff_people",
          "tag_sets_id": 2389,
          "tags_id": 9374401
         },
         {
          "stories_id": 1252399517,
          "tag": "Natural Resources Defense Council",
          "tag_set": "cliff_organizations",
          "tag_sets_id": 2388,
          "tags_id": 9378230
         },
         {
          "stories_id": 1252399517,
          "tag": "U.S. Chamber of Commerce",
          "tag_set": "cliff_organizations",
          "tag_sets_id": 2388,
          "tags_id": 9378477
         },
         {
          "stories_id": 1252399517,
          "tag": "Russ Girling",
          "tag_set": "cliff_people",
          "tag_sets_id": 2389,
          "tags_id": 9387132
         },
         {
          "stories_id": 1252399517,
          "tag": "Bakken",
          "tag_set": "cliff_people",
          "tag_sets_id": 2389,
          "tags_id": 9393906
         },
         {
          "stories_id": 1252399517,
          "tag": "Tom Donohue",
          "tag_set": "cliff_people",
          "tag_sets_id": 2389,
          "tags_id": 9399760
         },
         {
          "stories_id": 1252399517,
          "tag": "NEPA",
          "tag_set": "cliff_organizations",
          "tag_sets_id": 2388,
          "tags_id": 9401279
         },
         {
          "stories_id": 1252399517,
          "tag": "District Court",
          "tag_set": "cliff_organizations",
          "tag_sets_id": 2388,
          "tags_id": 9448396
         },
         {
          "stories_id": 1252399517,
          "tag": "TransCanada Corporation",
          "tag_set": "cliff_organizations",
          "tag_sets_id": 2388,
          "tags_id": 9480445
         },
         {
          "stories_id": 1252399517,
          "tag": "cliff_clavin_v2.4.1",
          "tag_set": "geocoder_version",
          "tag_sets_id": 1937,
          "tags_id": 9696677
         },
         {
          "stories_id": 1252399517,
          "tag": "Brian Morris",
          "tag_set": "cliff_people",
          "tag_sets_id": 2389,
          "tags_id": 9850694
         },
         {
          "stories_id": 1252399517,
          "tag": "Anthony Swift",
          "tag_set": "cliff_people",
          "tag_sets_id": 2389,
          "tags_id": 10506835
         },
         {
          "stories_id": 1252399517,
          "tag": "Stephan Volker",
          "tag_set": "cliff_people",
          "tag_sets_id": 2389,
          "tags_id": 29503129
         },
         {
          "stories_id": 1252399517,
          "tag": "TransCanada",
          "tag_set": "cliff_people",
          "tag_sets_id": 2389,
          "tags_id": 32584916
         },
         {
          "stories_id": 1252399517,
          "tag": "readability-lxml-0.7",
          "tag_set": "extractor_version",
          "tag_sets_id": 1354,
          "tags_id": 81092444
         }
        ],
        "title": "Trump Pushes to Jump-Start Completion of Keystone Pipeline System First Proposed in 2005",
        "url": "http://feedproxy.google.com/~r/breitbart/~3/PYGCxtmY4E8/",
        "word_count": null
       },
       {
        "ap_syndicated": false,
        "collect_date": "2019-11-10 10:57:41.122065",
        "feeds": null,
        "guid": "https://www.alternet.org/2019/11/here-are-11-absurd-conspiracy-theories-conservatives-must-believe-in-the-trump-era/",
        "language": "en",
        "media_id": 56758,
        "media_name": "Alternet",
        "media_url": "https://www.alternet.org/",
        "metadata": {
         "date_guess_method": null,
         "extractor_version": {
          "stories_id": 1441592856,
          "tag": "readability-lxml-0.7",
          "tag_set": "extractor_version",
          "tag_sets_id": 1354,
          "tags_id": 81092444
         },
         "geocoder_version": {
          "stories_id": 1441592856,
          "tag": "cliff_clavin_v2.6.0",
          "tag_set": "geocoder_version",
          "tag_sets_id": 1937,
          "tags_id": 189462640
         },
         "nyt_themes_version": {
          "stories_id": 1441592856,
          "tag": "nyt_labeller_v1.0.0",
          "tag_set": "nyt_labels_version",
          "tag_sets_id": 1964,
          "tags_id": 9360669
         }
        },
        "processed_stories_id": 1837295904,
        "publish_date": "2019-11-10 08:19:32",
        "stories_id": 1441592856,
        "story_tags": [
         {
          "stories_id": 1441592856,
          "tag": "geonames_6252001",
          "tag_set": "mc-geocoder@media.mit.edu",
          "tag_sets_id": 1011,
          "tags_id": 8878461
         },
         {
          "stories_id": 1441592856,
          "tag": "nyt_labeller_v1.0.0",
          "tag_set": "nyt_labels_version",
          "tag_sets_id": 1964,
          "tags_id": 9360669
         },
         {
          "stories_id": 1441592856,
          "tag": "politics and government",
          "tag_set": "nyt_labels",
          "tag_sets_id": 1963,
          "tags_id": 9360836
         },
         {
          "stories_id": 1441592856,
          "tag": "finances",
          "tag_set": "nyt_labels",
          "tag_sets_id": 1963,
          "tags_id": 9360840
         },
         {
          "stories_id": 1441592856,
          "tag": "united states politics and government",
          "tag_set": "nyt_labels",
          "tag_sets_id": 1963,
          "tags_id": 9360846
         },
         {
          "stories_id": 1441592856,
          "tag": "elections",
          "tag_set": "nyt_labels",
          "tag_sets_id": 1963,
          "tags_id": 9360851
         },
         {
          "stories_id": 1441592856,
          "tag": "editorials",
          "tag_set": "nyt_labels",
          "tag_sets_id": 1963,
          "tags_id": 9360894
         },
         {
          "stories_id": 1441592856,
          "tag": "election issues",
          "tag_set": "nyt_labels",
          "tag_sets_id": 1963,
          "tags_id": 9360896
         },
         {
          "stories_id": 1441592856,
          "tag": "frauds and swindling",
          "tag_set": "nyt_labels",
          "tag_sets_id": 1963,
          "tags_id": 9360947
         },
         {
          "stories_id": 1441592856,
          "tag": "Hillary Clinton",
          "tag_set": "cliff_people",
          "tag_sets_id": 2389,
          "tags_id": 9362747
         },
         {
          "stories_id": 1441592856,
          "tag": "Bernie Sanders",
          "tag_set": "cliff_people",
          "tag_sets_id": 2389,
          "tags_id": 9362750
         },
         {
          "stories_id": 1441592856,
          "tag": "Trump",
          "tag_set": "cliff_people",
          "tag_sets_id": 2389,
          "tags_id": 9362872
         },
         {
          "stories_id": 1441592856,
          "tag": "GOP",
          "tag_set": "cliff_organizations",
          "tag_sets_id": 2388,
          "tags_id": 9362923
         },
         {
          "stories_id": 1441592856,
          "tag": "George Soros",
          "tag_set": "cliff_people",
          "tag_sets_id": 2389,
          "tags_id": 9364748
         },
         {
          "stories_id": 1441592856,
          "tag": "Barack Hussein Obama",
          "tag_set": "cliff_people",
          "tag_sets_id": 2389,
          "tags_id": 9446903
         },
         {
          "stories_id": 1441592856,
          "tag": "Green Energy",
          "tag_set": "cliff_organizations",
          "tag_sets_id": 2388,
          "tags_id": 9503739
         },
         {
          "stories_id": 1441592856,
          "tag": "readability-lxml-0.7",
          "tag_set": "extractor_version",
          "tag_sets_id": 1354,
          "tags_id": 81092444
         },
         {
          "stories_id": 1441592856,
          "tag": "cliff_clavin_v2.6.0",
          "tag_set": "geocoder_version",
          "tag_sets_id": 1937,
          "tags_id": 189462640
         }
        ],
        "title": "Here are 11 absurd conspiracy theories conservatives must believe in the Trump era",
        "url": "https://www.alternet.org/2019/11/here-are-11-absurd-conspiracy-theories-conservatives-must-believe-in-the-trump-era/",
        "word_count": null
       },
       {
        "ap_syndicated": false,
        "collect_date": "2020-04-11 05:33:55.211228",
        "feeds": null,
        "guid": "https://www.theguardian.com/world/2019/apr/15/finlands-sdp-tries-to-build-coalition-after-narrow-election-win?CMP=share_btn_fb",
        "language": "en",
        "media_id": 623382,
        "media_name": "Guardian - United States",
        "media_url": "http://www.theguardian.com/us",
        "metadata": {
         "date_guess_method": {
          "stories_id": 1575257653,
          "tag": "guess_by_unknown",
          "tag_set": "date_guess_method",
          "tag_sets_id": 508,
          "tags_id": 50741492
         },
         "extractor_version": {
          "stories_id": 1575257653,
          "tag": "readability-lxml-0.7",
          "tag_set": "extractor_version",
          "tag_sets_id": 1354,
          "tags_id": 81092444
         },
         "geocoder_version": {
          "stories_id": 1575257653,
          "tag": "cliff_clavin_v2.6.0",
          "tag_set": "geocoder_version",
          "tag_sets_id": 1937,
          "tags_id": 189462640
         },
         "nyt_themes_version": {
          "stories_id": 1575257653,
          "tag": "nyt_labeller_v1.0.0",
          "tag_set": "nyt_labels_version",
          "tag_sets_id": 1964,
          "tags_id": 9360669
         }
        },
        "processed_stories_id": 1983163226,
        "publish_date": "2019-04-15 00:00:00",
        "stories_id": 1575257653,
        "story_tags": [
         {
          "stories_id": 1575257653,
          "tag": "geonames_660013",
          "tag_set": "mc-geocoder@media.mit.edu",
          "tag_sets_id": 1011,
          "tags_id": 8878891
         },
         {
          "stories_id": 1575257653,
          "tag": "nyt_labeller_v1.0.0",
          "tag_set": "nyt_labels_version",
          "tag_sets_id": 1964,
          "tags_id": 9360669
         },
         {
          "stories_id": 1575257653,
          "tag": "politics and government",
          "tag_set": "nyt_labels",
          "tag_sets_id": 1963,
          "tags_id": 9360836
         },
         {
          "stories_id": 1575257653,
          "tag": "elections",
          "tag_set": "nyt_labels",
          "tag_sets_id": 1963,
          "tags_id": 9360851
         },
         {
          "stories_id": 1575257653,
          "tag": "legislatures and parliaments",
          "tag_set": "nyt_labels",
          "tag_sets_id": 1963,
          "tags_id": 9360961
         },
         {
          "stories_id": 1575257653,
          "tag": "EU",
          "tag_set": "cliff_organizations",
          "tag_sets_id": 2388,
          "tags_id": 9363241
         },
         {
          "stories_id": 1575257653,
          "tag": "supreme court",
          "tag_set": "cliff_organizations",
          "tag_sets_id": 2388,
          "tags_id": 9363529
         },
         {
          "stories_id": 1575257653,
          "tag": "SDP",
          "tag_set": "cliff_organizations",
          "tag_sets_id": 2388,
          "tags_id": 9379591
         },
         {
          "stories_id": 1575257653,
          "tag": "People’s party",
          "tag_set": "cliff_organizations",
          "tag_sets_id": 2388,
          "tags_id": 9383345
         },
         {
          "stories_id": 1575257653,
          "tag": "Social Democrats",
          "tag_set": "cliff_organizations",
          "tag_sets_id": 2388,
          "tags_id": 9396277
         },
         {
          "stories_id": 1575257653,
          "tag": "University of Turku",
          "tag_set": "cliff_organizations",
          "tag_sets_id": 2388,
          "tags_id": 9788809
         },
         {
          "stories_id": 1575257653,
          "tag": "Juha Sipilä",
          "tag_set": "cliff_people",
          "tag_sets_id": 2389,
          "tags_id": 9908011
         },
         {
          "stories_id": 1575257653,
          "tag": "Jussi Halla-aho",
          "tag_set": "cliff_people",
          "tag_sets_id": 2389,
          "tags_id": 10339151
         },
         {
          "stories_id": 1575257653,
          "tag": "Antti Rinne",
          "tag_set": "cliff_people",
          "tag_sets_id": 2389,
          "tags_id": 11138311
         },
         {
          "stories_id": 1575257653,
          "tag": "Markku Jokisipilä",
          "tag_set": "cliff_people",
          "tag_sets_id": 2389,
          "tags_id": 30536114
         },
         {
          "stories_id": 1575257653,
          "tag": "Finns party",
          "tag_set": "cliff_organizations",
          "tag_sets_id": 2388,
          "tags_id": 35111059
         },
         {
          "stories_id": 1575257653,
          "tag": "guess_by_unknown",
          "tag_set": "date_guess_method",
          "tag_sets_id": 508,
          "tags_id": 50741492
         },
         {
          "stories_id": 1575257653,
          "tag": "readability-lxml-0.7",
          "tag_set": "extractor_version",
          "tag_sets_id": 1354,
          "tags_id": 81092444
         },
         {
          "stories_id": 1575257653,
          "tag": "cliff_clavin_v2.6.0",
          "tag_set": "geocoder_version",
          "tag_sets_id": 1937,
          "tags_id": 189462640
         }
        ],
        "title": "Finland heading for left-right coalition government after narrow SDP poll win",
        "url": "https://www.theguardian.com/world/2019/apr/15/finlands-sdp-tries-to-build-coalition-after-narrow-election-win?CMP=share_btn_fb",
        "word_count": null
       },
       {
        "ap_syndicated": false,
        "collect_date": "2019-04-26 07:57:33.564493",
        "feeds": null,
        "guid": "https://www.theguardian.com/world/2019/apr/26/the-joys-of-springs-how-kenya-could-steam-beyond-fossil-fuel",
        "language": "en",
        "media_id": 623382,
        "media_name": "Guardian - United States",
        "media_url": "http://www.theguardian.com/us",
        "metadata": {
         "date_guess_method": null,
         "extractor_version": {
          "stories_id": 1266808538,
          "tag": "readability-lxml-0.7",
          "tag_set": "extractor_version",
          "tag_sets_id": 1354,
          "tags_id": 81092444
         },
         "geocoder_version": {
          "stories_id": 1266808538,
          "tag": "cliff_clavin_v2.4.1",
          "tag_set": "geocoder_version",
          "tag_sets_id": 1937,
          "tags_id": 9696677
         },
         "nyt_themes_version": {
          "stories_id": 1266808538,
          "tag": "nyt_labeller_v1.0.0",
          "tag_set": "nyt_labels_version",
          "tag_sets_id": 1964,
          "tags_id": 9360669
         }
        },
        "processed_stories_id": 1645904251,
        "publish_date": "2019-04-26 01:00:20",
        "stories_id": 1266808538,
        "story_tags": [
         {
          "stories_id": 1266808538,
          "tag": "geonames_2953481",
          "tag_set": "mc-geocoder@media.mit.edu",
          "tag_sets_id": 1011,
          "tags_id": 8878579
         },
         {
          "stories_id": 1266808538,
          "tag": "geonames_192950",
          "tag_set": "mc-geocoder@media.mit.edu",
          "tag_sets_id": 1011,
          "tags_id": 8878654
         },
         {
          "stories_id": 1266808538,
          "tag": "geonames_184745",
          "tag_set": "mc-geocoder@media.mit.edu",
          "tag_sets_id": 1011,
          "tags_id": 8878658
         },
         {
          "stories_id": 1266808538,
          "tag": "geonames_5279468",
          "tag_set": "mc-geocoder@media.mit.edu",
          "tag_sets_id": 1011,
          "tags_id": 8878849
         },
         {
          "stories_id": 1266808538,
          "tag": "geonames_184742",
          "tag_set": "mc-geocoder@media.mit.edu",
          "tag_sets_id": 1011,
          "tags_id": 8885625
         },
         {
          "stories_id": 1266808538,
          "tag": "nyt_labeller_v1.0.0",
          "tag_set": "nyt_labels_version",
          "tag_sets_id": 1964,
          "tags_id": 9360669
         },
         {
          "stories_id": 1266808538,
          "tag": "economic conditions and trends",
          "tag_set": "nyt_labels",
          "tag_sets_id": 1963,
          "tags_id": 9360989
         },
         {
          "stories_id": 1266808538,
          "tag": "energy and power",
          "tag_set": "nyt_labels",
          "tag_sets_id": 1963,
          "tags_id": 9360997
         },
         {
          "stories_id": 1266808538,
          "tag": "electric light and power",
          "tag_set": "nyt_labels",
          "tag_sets_id": 1963,
          "tags_id": 9361013
         },
         {
          "stories_id": 1266808538,
          "tag": "light",
          "tag_set": "nyt_labels",
          "tag_sets_id": 1963,
          "tags_id": 9361014
         },
         {
          "stories_id": 1266808538,
          "tag": "travel and vacations",
          "tag_set": "nyt_labels",
          "tag_sets_id": 1963,
          "tags_id": 9361022
         },
         {
          "stories_id": 1266808538,
          "tag": "UN",
          "tag_set": "cliff_organizations",
          "tag_sets_id": 2388,
          "tags_id": 9362786
         },
         {
          "stories_id": 1266808538,
          "tag": "World Bank",
          "tag_set": "cliff_organizations",
          "tag_sets_id": 2388,
          "tags_id": 9363853
         },
         {
          "stories_id": 1266808538,
          "tag": "Roberto",
          "tag_set": "cliff_people",
          "tag_sets_id": 2389,
          "tags_id": 9365013
         },
         {
          "stories_id": 1266808538,
          "tag": "Inger Andersen",
          "tag_set": "cliff_people",
          "tag_sets_id": 2389,
          "tags_id": 9526743
         },
         {
          "stories_id": 1266808538,
          "tag": "cliff_clavin_v2.4.1",
          "tag_set": "geocoder_version",
          "tag_sets_id": 1937,
          "tags_id": 9696677
         },
         {
          "stories_id": 1266808538,
          "tag": "KenGen",
          "tag_set": "cliff_people",
          "tag_sets_id": 2389,
          "tags_id": 10550445
         },
         {
          "stories_id": 1266808538,
          "tag": "geonames_2886008",
          "tag_set": "mc-geocoder@media.mit.edu",
          "tag_sets_id": 1011,
          "tags_id": 11329387
         },
         {
          "stories_id": 1266808538,
          "tag": "Michael Gottschalk/Photothek",
          "tag_set": "cliff_people",
          "tag_sets_id": 2389,
          "tags_id": 11806898
         },
         {
          "stories_id": 1266808538,
          "tag": "Lisa Murray",
          "tag_set": "cliff_people",
          "tag_sets_id": 2389,
          "tags_id": 11874588
         },
         {
          "stories_id": 1266808538,
          "tag": "geonames_5251639",
          "tag_set": "mc-geocoder@media.mit.edu",
          "tag_sets_id": 1011,
          "tags_id": 16431860
         },
         {
          "stories_id": 1266808538,
          "tag": "Olkaria",
          "tag_set": "cliff_organizations",
          "tag_sets_id": 2388,
          "tags_id": 31006946
         },
         {
          "stories_id": 1266808538,
          "tag": "Cyrus Karingithi",
          "tag_set": "cliff_people",
          "tag_sets_id": 2389,
          "tags_id": 54186857
         },
         {
          "stories_id": 1266808538,
          "tag": "readability-lxml-0.7",
          "tag_set": "extractor_version",
          "tag_sets_id": 1354,
          "tags_id": 81092444
         },
         {
          "stories_id": 1266808538,
          "tag": "Geordie Colville",
          "tag_set": "cliff_people",
          "tag_sets_id": 2389,
          "tags_id": 107353198
         }
        ],
        "title": "The joys of springs: how Kenya could steam beyond fossil fuel",
        "url": "https://www.theguardian.com/world/2019/apr/26/the-joys-of-springs-how-kenya-could-steam-beyond-fossil-fuel",
        "word_count": null
       },
       {
        "ap_syndicated": false,
        "collect_date": "2019-10-22 14:11:27.099105",
        "feeds": null,
        "guid": "C2F82589-B6E3-4C35-8409D207EEC49BB3",
        "language": "en",
        "media_id": 38941,
        "media_name": "Scientific American",
        "media_url": "http://www.scientificamerican.com/",
        "metadata": {
         "date_guess_method": null,
         "extractor_version": {
          "stories_id": 1425794743,
          "tag": "readability-lxml-0.7",
          "tag_set": "extractor_version",
          "tag_sets_id": 1354,
          "tags_id": 81092444
         },
         "geocoder_version": {
          "stories_id": 1425794743,
          "tag": "cliff_clavin_v2.4.1",
          "tag_set": "geocoder_version",
          "tag_sets_id": 1937,
          "tags_id": 9696677
         },
         "nyt_themes_version": {
          "stories_id": 1425794743,
          "tag": "nyt_labeller_v1.0.0",
          "tag_set": "nyt_labels_version",
          "tag_sets_id": 1964,
          "tags_id": 9360669
         }
        },
        "processed_stories_id": 1821746186,
        "publish_date": "2019-10-22 14:00:00",
        "stories_id": 1425794743,
        "story_tags": [
         {
          "stories_id": 1425794743,
          "tag": "geonames_6252001",
          "tag_set": "mc-geocoder@media.mit.edu",
          "tag_sets_id": 1011,
          "tags_id": 8878461
         },
         {
          "stories_id": 1425794743,
          "tag": "geonames_5128638",
          "tag_set": "mc-geocoder@media.mit.edu",
          "tag_sets_id": 1011,
          "tags_id": 8878463
         },
         {
          "stories_id": 1425794743,
          "tag": "nyt_labeller_v1.0.0",
          "tag_set": "nyt_labels_version",
          "tag_sets_id": 1964,
          "tags_id": 9360669
         },
         {
          "stories_id": 1425794743,
          "tag": "medicine and health",
          "tag_set": "nyt_labels",
          "tag_sets_id": 1963,
          "tags_id": 9360852
         },
         {
          "stories_id": 1425794743,
          "tag": "GIA",
          "tag_set": "cliff_organizations",
          "tag_sets_id": 2388,
          "tags_id": 9373832
         },
         {
          "stories_id": 1425794743,
          "tag": "mantle",
          "tag_set": "cliff_people",
          "tag_sets_id": 2389,
          "tags_id": 9380396
         },
         {
          "stories_id": 1425794743,
          "tag": "William Shatner",
          "tag_set": "cliff_people",
          "tag_sets_id": 2389,
          "tags_id": 9438928
         },
         {
          "stories_id": 1425794743,
          "tag": "Spock",
          "tag_set": "cliff_people",
          "tag_sets_id": 2389,
          "tags_id": 9478287
         },
         {
          "stories_id": 1425794743,
          "tag": "Leonard Nimoy",
          "tag_set": "cliff_people",
          "tag_sets_id": 2389,
          "tags_id": 9485779
         },
         {
          "stories_id": 1425794743,
          "tag": "Gemological Institute of America",
          "tag_set": "cliff_organizations",
          "tag_sets_id": 2388,
          "tags_id": 9493635
         },
         {
          "stories_id": 1425794743,
          "tag": "W.W. Norton & Co.",
          "tag_set": "cliff_organizations",
          "tag_sets_id": 2388,
          "tags_id": 9508121
         },
         {
          "stories_id": 1425794743,
          "tag": "James T. Kirk",
          "tag_set": "cliff_people",
          "tag_sets_id": 2389,
          "tags_id": 9662432
         },
         {
          "stories_id": 1425794743,
          "tag": "cliff_clavin_v2.4.1",
          "tag_set": "geocoder_version",
          "tag_sets_id": 1937,
          "tags_id": 9696677
         },
         {
          "stories_id": 1425794743,
          "tag": "bongo",
          "tag_set": "cliff_people",
          "tag_sets_id": 2389,
          "tags_id": 10057277
         },
         {
          "stories_id": 1425794743,
          "tag": "geonames_5534505",
          "tag_set": "mc-geocoder@media.mit.edu",
          "tag_sets_id": 1011,
          "tags_id": 11094403
         },
         {
          "stories_id": 1425794743,
          "tag": "Robert Hazen",
          "tag_set": "cliff_people",
          "tag_sets_id": 2389,
          "tags_id": 25489925
         },
         {
          "stories_id": 1425794743,
          "tag": "Robert M. Hazen",
          "tag_set": "cliff_people",
          "tag_sets_id": 2389,
          "tags_id": 34867505
         },
         {
          "stories_id": 1425794743,
          "tag": "readability-lxml-0.7",
          "tag_set": "extractor_version",
          "tag_sets_id": 1354,
          "tags_id": 81092444
         },
         {
          "stories_id": 1425794743,
          "tag": "chemical foundation for life",
          "tag_set": "cliff_organizations",
          "tag_sets_id": 2388,
          "tags_id": 188468773
         },
         {
          "stories_id": 1425794743,
          "tag": "sticky rosin",
          "tag_set": "cliff_people",
          "tag_sets_id": 2389,
          "tags_id": 188468774
         }
        ],
        "title": "Why Carbon?",
        "url": "https://blogs.scientificamerican.com/observations/why-carbon/",
        "word_count": null
       },
       {
        "ap_syndicated": false,
        "collect_date": "2019-05-29 08:23:05.132458",
        "feeds": null,
        "guid": "https://www.theringer.com/movies/2019/5/29/18643290/godzilla-king-of-monsters-meaning-nature",
        "language": "en",
        "media_id": 24901,
        "media_name": "bleacherreport.com",
        "media_url": "http://bleacherreport.com",
        "metadata": {
         "date_guess_method": null,
         "extractor_version": {
          "stories_id": 1296706863,
          "tag": "readability-lxml-0.7",
          "tag_set": "extractor_version",
          "tag_sets_id": 1354,
          "tags_id": 81092444
         },
         "geocoder_version": {
          "stories_id": 1296706863,
          "tag": "cliff_clavin_v2.4.1",
          "tag_set": "geocoder_version",
          "tag_sets_id": 1937,
          "tags_id": 9696677
         },
         "nyt_themes_version": {
          "stories_id": 1296706863,
          "tag": "nyt_labeller_v1.0.0",
          "tag_set": "nyt_labels_version",
          "tag_sets_id": 1964,
          "tags_id": 9360669
         }
        },
        "processed_stories_id": 1686544201,
        "publish_date": "2019-05-29 07:56:16",
        "stories_id": 1296706863,
        "story_tags": [
         {
          "stories_id": 1296706863,
          "tag": "geonames_6252001",
          "tag_set": "mc-geocoder@media.mit.edu",
          "tag_sets_id": 1011,
          "tags_id": 8878461
         },
         {
          "stories_id": 1296706863,
          "tag": "geonames_1862415",
          "tag_set": "mc-geocoder@media.mit.edu",
          "tag_sets_id": 1011,
          "tags_id": 8882347
         },
         {
          "stories_id": 1296706863,
          "tag": "geonames_1608451",
          "tag_set": "mc-geocoder@media.mit.edu",
          "tag_sets_id": 1011,
          "tags_id": 8946803
         },
         {
          "stories_id": 1296706863,
          "tag": "nyt_labeller_v1.0.0",
          "tag_set": "nyt_labels_version",
          "tag_sets_id": 1964,
          "tags_id": 9360669
         },
         {
          "stories_id": 1296706863,
          "tag": "motion pictures",
          "tag_set": "nyt_labels",
          "tag_sets_id": 1963,
          "tags_id": 9360845
         },
         {
          "stories_id": 1296706863,
          "tag": "tigers",
          "tag_set": "cliff_organizations",
          "tag_sets_id": 2388,
          "tags_id": 9366292
         },
         {
          "stories_id": 1296706863,
          "tag": "Warner Bros.",
          "tag_set": "cliff_organizations",
          "tag_sets_id": 2388,
          "tags_id": 9368868
         },
         {
          "stories_id": 1296706863,
          "tag": "Conrad",
          "tag_set": "cliff_people",
          "tag_sets_id": 2389,
          "tags_id": 9401356
         },
         {
          "stories_id": 1296706863,
          "tag": "Mothra",
          "tag_set": "cliff_people",
          "tag_sets_id": 2389,
          "tags_id": 9406979
         },
         {
          "stories_id": 1296706863,
          "tag": "Samuel L. Jackson",
          "tag_set": "cliff_people",
          "tag_sets_id": 2389,
          "tags_id": 9432048
         },
         {
          "stories_id": 1296706863,
          "tag": "Sally Hawkins",
          "tag_set": "cliff_people",
          "tag_sets_id": 2389,
          "tags_id": 9488020
         },
         {
          "stories_id": 1296706863,
          "tag": "Ken Watanabe",
          "tag_set": "cliff_people",
          "tag_sets_id": 2389,
          "tags_id": 9569352
         },
         {
          "stories_id": 1296706863,
          "tag": "Vera Farmiga",
          "tag_set": "cliff_people",
          "tag_sets_id": 2389,
          "tags_id": 9569365
         },
         {
          "stories_id": 1296706863,
          "tag": "Corey Hawkins",
          "tag_set": "cliff_people",
          "tag_sets_id": 2389,
          "tags_id": 9582412
         },
         {
          "stories_id": 1296706863,
          "tag": "Brie Larson",
          "tag_set": "cliff_people",
          "tag_sets_id": 2389,
          "tags_id": 9589955
         },
         {
          "stories_id": 1296706863,
          "tag": "Kong",
          "tag_set": "cliff_people",
          "tag_sets_id": 2389,
          "tags_id": 9593632
         },
         {
          "stories_id": 1296706863,
          "tag": "Marlow",
          "tag_set": "cliff_people",
          "tag_sets_id": 2389,
          "tags_id": 9617004
         },
         {
          "stories_id": 1296706863,
          "tag": "Emma Russell",
          "tag_set": "cliff_people",
          "tag_sets_id": 2389,
          "tags_id": 9660568
         },
         {
          "stories_id": 1296706863,
          "tag": "cliff_clavin_v2.4.1",
          "tag_set": "geocoder_version",
          "tag_sets_id": 1937,
          "tags_id": 9696677
         },
         {
          "stories_id": 1296706863,
          "tag": "Ghidorah",
          "tag_set": "cliff_people",
          "tag_sets_id": 2389,
          "tags_id": 9780660
         },
         {
          "stories_id": 1296706863,
          "tag": "Rodan",
          "tag_set": "cliff_people",
          "tag_sets_id": 2389,
          "tags_id": 9836381
         },
         {
          "stories_id": 1296706863,
          "tag": "Serizawa",
          "tag_set": "cliff_people",
          "tag_sets_id": 2389,
          "tags_id": 9897775
         },
         {
          "stories_id": 1296706863,
          "tag": "John C. Reilly",
          "tag_set": "cliff_people",
          "tag_sets_id": 2389,
          "tags_id": 9939235
         },
         {
          "stories_id": 1296706863,
          "tag": "Skull Island",
          "tag_set": "cliff_organizations",
          "tag_sets_id": 2388,
          "tags_id": 10474705
         },
         {
          "stories_id": 1296706863,
          "tag": "Houston Brooks",
          "tag_set": "cliff_people",
          "tag_sets_id": 2389,
          "tags_id": 10635418
         },
         {
          "stories_id": 1296706863,
          "tag": "Mason Weaver",
          "tag_set": "cliff_people",
          "tag_sets_id": 2389,
          "tags_id": 10635421
         },
         {
          "stories_id": 1296706863,
          "tag": "Shin Godzilla",
          "tag_set": "cliff_people",
          "tag_sets_id": 2389,
          "tags_id": 10948377
         },
         {
          "stories_id": 1296706863,
          "tag": "Vivienne Graham",
          "tag_set": "cliff_people",
          "tag_sets_id": 2389,
          "tags_id": 30232768
         },
         {
          "stories_id": 1296706863,
          "tag": "Preston Packard",
          "tag_set": "cliff_organizations",
          "tag_sets_id": 2388,
          "tags_id": 64851113
         },
         {
          "stories_id": 1296706863,
          "tag": "readability-lxml-0.7",
          "tag_set": "extractor_version",
          "tag_sets_id": 1354,
          "tags_id": 81092444
         },
         {
          "stories_id": 1296706863,
          "tag": "Hannah Searson",
          "tag_set": "cliff_people",
          "tag_sets_id": 2389,
          "tags_id": 148205918
         }
        ],
        "title": "Force of Nature: What Godzilla Really Means",
        "url": "https://www.theringer.com/movies/2019/5/29/18643290/godzilla-king-of-monsters-meaning-nature",
        "word_count": null
       },
       {
        "ap_syndicated": false,
        "collect_date": "2019-08-29 16:35:15.886188",
        "feeds": null,
        "guid": "https://www.usatoday.com/story/opinion/2019/08/29/donald-trump-trade-war-agriculture-farmers-column/2150962001/",
        "language": "en",
        "media_id": 4,
        "media_name": "USA Today",
        "media_url": "http://www.usatoday.com",
        "metadata": {
         "date_guess_method": null,
         "extractor_version": {
          "stories_id": 1377997979,
          "tag": "readability-lxml-0.7",
          "tag_set": "extractor_version",
          "tag_sets_id": 1354,
          "tags_id": 81092444
         },
         "geocoder_version": {
          "stories_id": 1377997979,
          "tag": "cliff_clavin_v2.4.1",
          "tag_set": "geocoder_version",
          "tag_sets_id": 1937,
          "tags_id": 9696677
         },
         "nyt_themes_version": {
          "stories_id": 1377997979,
          "tag": "nyt_labeller_v1.0.0",
          "tag_set": "nyt_labels_version",
          "tag_sets_id": 1964,
          "tags_id": 9360669
         }
        },
        "processed_stories_id": 1770488593,
        "publish_date": "2019-08-29 13:56:12",
        "stories_id": 1377997979,
        "story_tags": [
         {
          "stories_id": 1377997979,
          "tag": "geonames_6252001",
          "tag_set": "mc-geocoder@media.mit.edu",
          "tag_sets_id": 1011,
          "tags_id": 8878461
         },
         {
          "stories_id": 1377997979,
          "tag": "geonames_4896861",
          "tag_set": "mc-geocoder@media.mit.edu",
          "tag_sets_id": 1011,
          "tags_id": 8878482
         },
         {
          "stories_id": 1377997979,
          "tag": "geonames_5332921",
          "tag_set": "mc-geocoder@media.mit.edu",
          "tag_sets_id": 1011,
          "tags_id": 8878533
         },
         {
          "stories_id": 1377997979,
          "tag": "geonames_5391959",
          "tag_set": "mc-geocoder@media.mit.edu",
          "tag_sets_id": 1011,
          "tags_id": 8878536
         },
         {
          "stories_id": 1377997979,
          "tag": "geonames_4662168",
          "tag_set": "mc-geocoder@media.mit.edu",
          "tag_sets_id": 1011,
          "tags_id": 8878725
         },
         {
          "stories_id": 1377997979,
          "tag": "geonames_5279468",
          "tag_set": "mc-geocoder@media.mit.edu",
          "tag_sets_id": 1011,
          "tags_id": 8878849
         },
         {
          "stories_id": 1377997979,
          "tag": "nyt_labeller_v1.0.0",
          "tag_set": "nyt_labels_version",
          "tag_sets_id": 1964,
          "tags_id": 9360669
         },
         {
          "stories_id": 1377997979,
          "tag": "politics and government",
          "tag_set": "nyt_labels",
          "tag_sets_id": 1963,
          "tags_id": 9360836
         },
         {
          "stories_id": 1377997979,
          "tag": "law and legislation",
          "tag_set": "nyt_labels",
          "tag_sets_id": 1963,
          "tags_id": 9360837
         },
         {
          "stories_id": 1377997979,
          "tag": "finances",
          "tag_set": "nyt_labels",
          "tag_sets_id": 1963,
          "tags_id": 9360840
         },
         {
          "stories_id": 1377997979,
          "tag": "united states politics and government",
          "tag_set": "nyt_labels",
          "tag_sets_id": 1963,
          "tags_id": 9360846
         },
         {
          "stories_id": 1377997979,
          "tag": "taxation",
          "tag_set": "nyt_labels",
          "tag_sets_id": 1963,
          "tags_id": 9360882
         },
         {
          "stories_id": 1377997979,
          "tag": "united states international relations",
          "tag_set": "nyt_labels",
          "tag_sets_id": 1963,
          "tags_id": 9360933
         },
         {
          "stories_id": 1377997979,
          "tag": "international relations",
          "tag_set": "nyt_labels",
          "tag_sets_id": 1963,
          "tags_id": 9360934
         },
         {
          "stories_id": 1377997979,
          "tag": "international trade and world market",
          "tag_set": "nyt_labels",
          "tag_sets_id": 1963,
          "tags_id": 9360983
         },
         {
          "stories_id": 1377997979,
          "tag": "food",
          "tag_set": "nyt_labels",
          "tag_sets_id": 1963,
          "tags_id": 9361010
         },
         {
          "stories_id": 1377997979,
          "tag": "agriculture",
          "tag_set": "nyt_labels",
          "tag_sets_id": 1963,
          "tags_id": 9361156
         },
         {
          "stories_id": 1377997979,
          "tag": "customs (tariff)",
          "tag_set": "nyt_labels",
          "tag_sets_id": 1963,
          "tags_id": 9361176
         },
         {
          "stories_id": 1377997979,
          "tag": "farmers",
          "tag_set": "nyt_labels",
          "tag_sets_id": 1963,
          "tags_id": 9361177
         },
         {
          "stories_id": 1377997979,
          "tag": "Donald Trump",
          "tag_set": "cliff_people",
          "tag_sets_id": 2389,
          "tags_id": 9362284
         },
         {
          "stories_id": 1377997979,
          "tag": "Washington Post",
          "tag_set": "cliff_organizations",
          "tag_sets_id": 2388,
          "tags_id": 9362798
         },
         {
          "stories_id": 1377997979,
          "tag": "Congress",
          "tag_set": "cliff_organizations",
          "tag_sets_id": 2388,
          "tags_id": 9362962
         },
         {
          "stories_id": 1377997979,
          "tag": "John Deere",
          "tag_set": "cliff_people",
          "tag_sets_id": 2389,
          "tags_id": 9365940
         },
         {
          "stories_id": 1377997979,
          "tag": "National Farmers Union",
          "tag_set": "cliff_organizations",
          "tag_sets_id": 2388,
          "tags_id": 9368703
         },
         {
          "stories_id": 1377997979,
          "tag": "USA TODAY",
          "tag_set": "cliff_organizations",
          "tag_sets_id": 2388,
          "tags_id": 9382850
         },
         {
          "stories_id": 1377997979,
          "tag": "John Carter",
          "tag_set": "cliff_people",
          "tag_sets_id": 2389,
          "tags_id": 9391501
         },
         {
          "stories_id": 1377997979,
          "tag": "G. William Hoagland",
          "tag_set": "cliff_people",
          "tag_sets_id": 2389,
          "tags_id": 9461080
         },
         {
          "stories_id": 1377997979,
          "tag": "George F. Will",
          "tag_set": "cliff_people",
          "tag_sets_id": 2389,
          "tags_id": 9486285
         },
         {
          "stories_id": 1377997979,
          "tag": "Deere & Co.",
          "tag_set": "cliff_organizations",
          "tag_sets_id": 2388,
          "tags_id": 9644696
         },
         {
          "stories_id": 1377997979,
          "tag": "cliff_clavin_v2.4.1",
          "tag_set": "geocoder_version",
          "tag_sets_id": 1937,
          "tags_id": 9696677
         },
         {
          "stories_id": 1377997979,
          "tag": "Roger Johnson",
          "tag_set": "cliff_people",
          "tag_sets_id": 2389,
          "tags_id": 9760325
         },
         {
          "stories_id": 1377997979,
          "tag": "Ron David",
          "tag_set": "cliff_people",
          "tag_sets_id": 2389,
          "tags_id": 11356853
         },
         {
          "stories_id": 1377997979,
          "tag": "California Farm Bureau",
          "tag_set": "cliff_organizations",
          "tag_sets_id": 2388,
          "tags_id": 29385381
         },
         {
          "stories_id": 1377997979,
          "tag": "Kathy Pease",
          "tag_set": "cliff_people",
          "tag_sets_id": 2389,
          "tags_id": 42466797
         },
         {
          "stories_id": 1377997979,
          "tag": "readability-lxml-0.7",
          "tag_set": "extractor_version",
          "tag_sets_id": 1354,
          "tags_id": 81092444
         },
         {
          "stories_id": 1377997979,
          "tag": "— Sam McGowan",
          "tag_set": "cliff_people",
          "tag_sets_id": 2389,
          "tags_id": 184487194
         }
        ],
        "title": "China keeps calling Trump&apos;s bluff in trade war, and farmers take the hit: Today&apos;s talker",
        "url": "http://rssfeeds.usatoday.com/~/606223480/0/news-opinion~China-keeps-calling-Trumpaposs-bluff-in-trade-war-and-farmers-take-the-hit-Todayaposs-talker/",
        "word_count": null
       },
       {
        "ap_syndicated": false,
        "collect_date": "2019-04-23 09:40:05.794426",
        "feeds": null,
        "guid": "https://www.prnewswire.com:443/news-releases/pulse-oil-corp-announces-first-bigoray-well-encounters-over-50-meters-of-oil-pay-the-spudding-of-pulses-second-bigoray-well-and-pulses-production-testing-underway-at-queenstown-300836084.html",
        "language": "en",
        "media_id": 19673,
        "media_name": "prnewswire.com",
        "media_url": "http://www.prnewswire.com",
        "metadata": {
         "date_guess_method": null,
         "extractor_version": {
          "stories_id": 1263778321,
          "tag": "readability-lxml-0.7",
          "tag_set": "extractor_version",
          "tag_sets_id": 1354,
          "tags_id": 81092444
         },
         "geocoder_version": {
          "stories_id": 1263778321,
          "tag": "cliff_clavin_v2.4.1",
          "tag_set": "geocoder_version",
          "tag_sets_id": 1937,
          "tags_id": 9696677
         },
         "nyt_themes_version": {
          "stories_id": 1263778321,
          "tag": "nyt_labeller_v1.0.0",
          "tag_set": "nyt_labels_version",
          "tag_sets_id": 1964,
          "tags_id": 9360669
         }
        },
        "processed_stories_id": 1640867958,
        "publish_date": "2019-04-23 09:30:00",
        "stories_id": 1263778321,
        "story_tags": [
         {
          "stories_id": 1263778321,
          "tag": "geonames_6251999",
          "tag_set": "mc-geocoder@media.mit.edu",
          "tag_sets_id": 1011,
          "tags_id": 8878548
         },
         {
          "stories_id": 1263778321,
          "tag": "geonames_5883102",
          "tag_set": "mc-geocoder@media.mit.edu",
          "tag_sets_id": 1011,
          "tags_id": 8879102
         },
         {
          "stories_id": 1263778321,
          "tag": "nyt_labeller_v1.0.0",
          "tag_set": "nyt_labels_version",
          "tag_sets_id": 1964,
          "tags_id": 9360669
         },
         {
          "stories_id": 1263778321,
          "tag": "oil (petroleum) and gasoline",
          "tag_set": "nyt_labels",
          "tag_sets_id": 1963,
          "tags_id": 9360884
         },
         {
          "stories_id": 1263778321,
          "tag": "TSX Venture Exchange",
          "tag_set": "cliff_organizations",
          "tag_sets_id": 2388,
          "tags_id": 9443157
         },
         {
          "stories_id": 1263778321,
          "tag": "cliff_clavin_v2.4.1",
          "tag_set": "geocoder_version",
          "tag_sets_id": 1937,
          "tags_id": 9696677
         },
         {
          "stories_id": 1263778321,
          "tag": "EOR",
          "tag_set": "cliff_organizations",
          "tag_sets_id": 2388,
          "tags_id": 9704753
         },
         {
          "stories_id": 1263778321,
          "tag": "Duvernay",
          "tag_set": "cliff_people",
          "tag_sets_id": 2389,
          "tags_id": 17846946
         },
         {
          "stories_id": 1263778321,
          "tag": "Pulse Oil Corp",
          "tag_set": "cliff_organizations",
          "tag_sets_id": 2388,
          "tags_id": 30553287
         },
         {
          "stories_id": 1263778321,
          "tag": "TSX Venture Exchange, Inc.",
          "tag_set": "cliff_organizations",
          "tag_sets_id": 2388,
          "tags_id": 30553290
         },
         {
          "stories_id": 1263778321,
          "tag": "Drew Cadenhead",
          "tag_set": "cliff_people",
          "tag_sets_id": 2389,
          "tags_id": 30553292
         },
         {
          "stories_id": 1263778321,
          "tag": "geonames_6115149",
          "tag_set": "mc-geocoder@media.mit.edu",
          "tag_sets_id": 1011,
          "tags_id": 30944881
         },
         {
          "stories_id": 1263778321,
          "tag": "Pulse Oil Corp.",
          "tag_set": "cliff_organizations",
          "tag_sets_id": 2388,
          "tags_id": 32869710
         },
         {
          "stories_id": 1263778321,
          "tag": "Nisku",
          "tag_set": "cliff_people",
          "tag_sets_id": 2389,
          "tags_id": 35383988
         },
         {
          "stories_id": 1263778321,
          "tag": "SOURCE Pulse Oil Corp.",
          "tag_set": "cliff_organizations",
          "tag_sets_id": 2388,
          "tags_id": 55644102
         },
         {
          "stories_id": 1263778321,
          "tag": "readability-lxml-0.7",
          "tag_set": "extractor_version",
          "tag_sets_id": 1354,
          "tags_id": 81092444
         },
         {
          "stories_id": 1263778321,
          "tag": "Nisku D pinnacle reef",
          "tag_set": "cliff_organizations",
          "tag_sets_id": 2388,
          "tags_id": 150488153
         },
         {
          "stories_id": 1263778321,
          "tag": "Nisku E pinnacle",
          "tag_set": "cliff_organizations",
          "tag_sets_id": 2388,
          "tags_id": 150488154
         }
        ],
        "title": "Pulse Oil Corp. Announces First Bigoray Well Encounters Over 50 Meters of Oil Pay, the Spudding Of Pulse's Second Bigoray Well and Pulse's Production Testing Underway at Queenstown",
        "url": "https://www.prnewswire.com:443/news-releases/pulse-oil-corp-announces-first-bigoray-well-encounters-over-50-meters-of-oil-pay-the-spudding-of-pulses-second-bigoray-well-and-pulses-production-testing-underway-at-queenstown-300836084.html",
        "word_count": null
       },
       {
        "ap_syndicated": false,
        "collect_date": "2019-07-02 10:37:09.148855",
        "feeds": null,
        "guid": "http://www.newsdump.com/article/climate-change-probably-added-4c-to-europes-june-heatwave-study",
        "language": "en",
        "media_id": 300427,
        "media_name": "NewsDump.com, US News, Headlines, Latest USA News, US Sports, US Politics, Football, Business, Celebs, Baseball, Hockey, Basketb",
        "media_url": "http://www.newsdump.com/",
        "metadata": {
         "date_guess_method": null,
         "extractor_version": {
          "stories_id": 1327689638,
          "tag": "readability-lxml-0.7",
          "tag_set": "extractor_version",
          "tag_sets_id": 1354,
          "tags_id": 81092444
         },
         "geocoder_version": {
          "stories_id": 1327689638,
          "tag": "cliff_clavin_v2.4.1",
          "tag_set": "geocoder_version",
          "tag_sets_id": 1937,
          "tags_id": 9696677
         },
         "nyt_themes_version": {
          "stories_id": 1327689638,
          "tag": "nyt_labeller_v1.0.0",
          "tag_set": "nyt_labels_version",
          "tag_sets_id": 1964,
          "tags_id": 9360669
         }
        },
        "processed_stories_id": 1719578600,
        "publish_date": "2019-07-02 09:38:49",
        "stories_id": 1327689638,
        "story_tags": [
         {
          "stories_id": 1327689638,
          "tag": "geonames_3996063",
          "tag_set": "mc-geocoder@media.mit.edu",
          "tag_sets_id": 1011,
          "tags_id": 8878716
         },
         {
          "stories_id": 1327689638,
          "tag": "geonames_4004156",
          "tag_set": "mc-geocoder@media.mit.edu",
          "tag_sets_id": 1011,
          "tags_id": 8879388
         },
         {
          "stories_id": 1327689638,
          "tag": "geonames_4005539",
          "tag_set": "mc-geocoder@media.mit.edu",
          "tag_sets_id": 1011,
          "tags_id": 8883513
         },
         {
          "stories_id": 1327689638,
          "tag": "nyt_labeller_v1.0.0",
          "tag_set": "nyt_labels_version",
          "tag_sets_id": 1964,
          "tags_id": 9360669
         },
         {
          "stories_id": 1327689638,
          "tag": "global warming",
          "tag_set": "nyt_labels",
          "tag_sets_id": 1963,
          "tags_id": 9360886
         },
         {
          "stories_id": 1327689638,
          "tag": "weather",
          "tag_set": "nyt_labels",
          "tag_sets_id": 1963,
          "tags_id": 9360902
         },
         {
          "stories_id": 1327689638,
          "tag": "Reuters",
          "tag_set": "cliff_organizations",
          "tag_sets_id": 2388,
          "tags_id": 9362267
         },
         {
          "stories_id": 1327689638,
          "tag": "CBS News",
          "tag_set": "cliff_organizations",
          "tag_sets_id": 2388,
          "tags_id": 9362732
         },
         {
          "stories_id": 1327689638,
          "tag": "Washington Post",
          "tag_set": "cliff_organizations",
          "tag_sets_id": 2388,
          "tags_id": 9362798
         },
         {
          "stories_id": 1327689638,
          "tag": "Euronews",
          "tag_set": "cliff_organizations",
          "tag_sets_id": 2388,
          "tags_id": 9524537
         },
         {
          "stories_id": 1327689638,
          "tag": "cliff_clavin_v2.4.1",
          "tag_set": "geocoder_version",
          "tag_sets_id": 1937,
          "tags_id": 9696677
         },
         {
          "stories_id": 1327689638,
          "tag": "Raleigh metro",
          "tag_set": "cliff_organizations",
          "tag_sets_id": 2388,
          "tags_id": 17378472
         },
         {
          "stories_id": 1327689638,
          "tag": "Raleigh Business News",
          "tag_set": "cliff_organizations",
          "tag_sets_id": 2388,
          "tags_id": 37402654
         },
         {
          "stories_id": 1327689638,
          "tag": "readability-lxml-0.7",
          "tag_set": "extractor_version",
          "tag_sets_id": 1354,
          "tags_id": 81092444
         }
        ],
        "title": "Climate change probably added 4C to Europe's June heatwave: study",
        "url": "http://www.newsdump.com/article/climate-change-probably-added-4c-to-europes-june-heatwave-study",
        "word_count": null
       },
       {
        "ap_syndicated": false,
        "collect_date": "2019-08-27 07:05:40.006206",
        "feeds": null,
        "guid": "https://www.huffpost.com/entry/pumice-raft-volcano-great-barrier-reef_n_5d64bb07e4b0d2fa2db007f9",
        "language": "en",
        "media_id": 27502,
        "media_name": "Huffington Post",
        "media_url": "http://www.huffingtonpost.com/#",
        "metadata": {
         "date_guess_method": null,
         "extractor_version": {
          "stories_id": 1375608614,
          "tag": "readability-lxml-0.7",
          "tag_set": "extractor_version",
          "tag_sets_id": 1354,
          "tags_id": 81092444
         },
         "geocoder_version": {
          "stories_id": 1375608614,
          "tag": "cliff_clavin_v2.4.1",
          "tag_set": "geocoder_version",
          "tag_sets_id": 1937,
          "tags_id": 9696677
         },
         "nyt_themes_version": {
          "stories_id": 1375608614,
          "tag": "nyt_labeller_v1.0.0",
          "tag_set": "nyt_labels_version",
          "tag_sets_id": 1964,
          "tags_id": 9360669
         }
        },
        "processed_stories_id": 1769140301,
        "publish_date": "2019-08-27 06:53:30",
        "stories_id": 1375608614,
        "story_tags": [
         {
          "stories_id": 1375608614,
          "tag": "geonames_4398678",
          "tag_set": "mc-geocoder@media.mit.edu",
          "tag_sets_id": 1011,
          "tags_id": 8878483
         },
         {
          "stories_id": 1375608614,
          "tag": "geonames_2077456",
          "tag_set": "mc-geocoder@media.mit.edu",
          "tag_sets_id": 1011,
          "tags_id": 8878705
         },
         {
          "stories_id": 1375608614,
          "tag": "geonames_4402300",
          "tag_set": "mc-geocoder@media.mit.edu",
          "tag_sets_id": 1011,
          "tags_id": 8879051
         },
         {
          "stories_id": 1375608614,
          "tag": "geonames_2152274",
          "tag_set": "mc-geocoder@media.mit.edu",
          "tag_sets_id": 1011,
          "tags_id": 8879590
         },
         {
          "stories_id": 1375608614,
          "tag": "nyt_labeller_v1.0.0",
          "tag_set": "nyt_labels_version",
          "tag_sets_id": 1964,
          "tags_id": 9360669
         },
         {
          "stories_id": 1375608614,
          "tag": "fish and other marine life",
          "tag_set": "nyt_labels",
          "tag_sets_id": 1963,
          "tags_id": 9360958
         },
         {
          "stories_id": 1375608614,
          "tag": "Facebook",
          "tag_set": "cliff_organizations",
          "tag_sets_id": 2388,
          "tags_id": 9362725
         },
         {
          "stories_id": 1375608614,
          "tag": "Queensland University of Technology",
          "tag_set": "cliff_organizations",
          "tag_sets_id": 2388,
          "tags_id": 9374127
         },
         {
          "stories_id": 1375608614,
          "tag": "NASA Earth Observatory",
          "tag_set": "cliff_organizations",
          "tag_sets_id": 2388,
          "tags_id": 9483933
         },
         {
          "stories_id": 1375608614,
          "tag": "cliff_clavin_v2.4.1",
          "tag_set": "geocoder_version",
          "tag_sets_id": 1937,
          "tags_id": 9696677
         },
         {
          "stories_id": 1375608614,
          "tag": "Scott Bryan",
          "tag_set": "cliff_people",
          "tag_sets_id": 2389,
          "tags_id": 10619575
         },
         {
          "stories_id": 1375608614,
          "tag": "Australian Broadcast Corp",
          "tag_set": "cliff_organizations",
          "tag_sets_id": 2388,
          "tags_id": 41614531
         },
         {
          "stories_id": 1375608614,
          "tag": "readability-lxml-0.7",
          "tag_set": "extractor_version",
          "tag_sets_id": 1354,
          "tags_id": 81092444
         }
        ],
        "title": "Massive Floating ‘Pumice Raft’ Could Be A Lifesaver For The Embattled Great Barrier Reef",
        "url": "https://www.huffpost.com/entry/pumice-raft-volcano-great-barrier-reef_n_5d64bb07e4b0d2fa2db007f9",
        "word_count": null
       },
       {
        "ap_syndicated": false,
        "collect_date": "2019-10-13 09:22:28.604525",
        "feeds": null,
        "guid": "https://www.huffpost.com/entry/climate-change-urgency_n_5d9e04bee4b02c9da042d9cd",
        "language": "en",
        "media_id": 96720,
        "media_name": "HuffPost Latino Voices",
        "media_url": "http://voces.huffingtonpost.com/#spider",
        "metadata": {
         "date_guess_method": null,
         "extractor_version": {
          "stories_id": 1417671921,
          "tag": "readability-lxml-0.7",
          "tag_set": "extractor_version",
          "tag_sets_id": 1354,
          "tags_id": 81092444
         },
         "geocoder_version": {
          "stories_id": 1417671921,
          "tag": "cliff_clavin_v2.4.1",
          "tag_set": "geocoder_version",
          "tag_sets_id": 1937,
          "tags_id": 9696677
         },
         "nyt_themes_version": {
          "stories_id": 1417671921,
          "tag": "nyt_labeller_v1.0.0",
          "tag_set": "nyt_labels_version",
          "tag_sets_id": 1964,
          "tags_id": 9360669
         }
        },
        "processed_stories_id": 1811373819,
        "publish_date": "2019-10-13 09:00:12",
        "stories_id": 1417671921,
        "story_tags": [
         {
          "stories_id": 1417671921,
          "tag": "geonames_5128638",
          "tag_set": "mc-geocoder@media.mit.edu",
          "tag_sets_id": 1011,
          "tags_id": 8878463
         },
         {
          "stories_id": 1417671921,
          "tag": "geonames_1850147",
          "tag_set": "mc-geocoder@media.mit.edu",
          "tag_sets_id": 1011,
          "tags_id": 8878679
         },
         {
          "stories_id": 1417671921,
          "tag": "geonames_298795",
          "tag_set": "mc-geocoder@media.mit.edu",
          "tag_sets_id": 1011,
          "tags_id": 8878745
         },
         {
          "stories_id": 1417671921,
          "tag": "geonames_745044",
          "tag_set": "mc-geocoder@media.mit.edu",
          "tag_sets_id": 1011,
          "tags_id": 8879538
         },
         {
          "stories_id": 1417671921,
          "tag": "nyt_labeller_v1.0.0",
          "tag_set": "nyt_labels_version",
          "tag_sets_id": 1964,
          "tags_id": 9360669
         },
         {
          "stories_id": 1417671921,
          "tag": "politics and government",
          "tag_set": "nyt_labels",
          "tag_sets_id": 1963,
          "tags_id": 9360836
         },
         {
          "stories_id": 1417671921,
          "tag": "global warming",
          "tag_set": "nyt_labels",
          "tag_sets_id": 1963,
          "tags_id": 9360886
         },
         {
          "stories_id": 1417671921,
          "tag": "environment",
          "tag_set": "nyt_labels",
          "tag_sets_id": 1963,
          "tags_id": 9360887
         },
         {
          "stories_id": 1417671921,
          "tag": "weather",
          "tag_set": "nyt_labels",
          "tag_sets_id": 1963,
          "tags_id": 9360902
         },
         {
          "stories_id": 1417671921,
          "tag": "air pollution",
          "tag_set": "nyt_labels",
          "tag_sets_id": 1963,
          "tags_id": 9361007
         },
         {
          "stories_id": 1417671921,
          "tag": "White House",
          "tag_set": "cliff_organizations",
          "tag_sets_id": 2388,
          "tags_id": 9362736
         },
         {
          "stories_id": 1417671921,
          "tag": "BBC",
          "tag_set": "cliff_organizations",
          "tag_sets_id": 2388,
          "tags_id": 9363065
         },
         {
          "stories_id": 1417671921,
          "tag": "U.N.",
          "tag_set": "cliff_organizations",
          "tag_sets_id": 2388,
          "tags_id": 9363619
         },
         {
          "stories_id": 1417671921,
          "tag": "Amazon",
          "tag_set": "cliff_organizations",
          "tag_sets_id": 2388,
          "tags_id": 9366535
         },
         {
          "stories_id": 1417671921,
          "tag": "Jeff Bezos",
          "tag_set": "cliff_people",
          "tag_sets_id": 2389,
          "tags_id": 9368367
         },
         {
          "stories_id": 1417671921,
          "tag": "United Nations University",
          "tag_set": "cliff_organizations",
          "tag_sets_id": 2388,
          "tags_id": 9410801
         },
         {
          "stories_id": 1417671921,
          "tag": "Jonathan Franzen",
          "tag_set": "cliff_people",
          "tag_sets_id": 2389,
          "tags_id": 9437268
         },
         {
          "stories_id": 1417671921,
          "tag": "Guardian UK",
          "tag_set": "cliff_organizations",
          "tag_sets_id": 2388,
          "tags_id": 9462572
         },
         {
          "stories_id": 1417671921,
          "tag": "cliff_clavin_v2.4.1",
          "tag_set": "geocoder_version",
          "tag_sets_id": 1937,
          "tags_id": 9696677
         },
         {
          "stories_id": 1417671921,
          "tag": "Ilgin Yorulmaz",
          "tag_set": "cliff_people",
          "tag_sets_id": 2389,
          "tags_id": 9701766
         },
         {
          "stories_id": 1417671921,
          "tag": "John Seymour",
          "tag_set": "cliff_people",
          "tag_sets_id": 2389,
          "tags_id": 9886850
         },
         {
          "stories_id": 1417671921,
          "tag": "Petkim",
          "tag_set": "cliff_organizations",
          "tag_sets_id": 2388,
          "tags_id": 10901893
         },
         {
          "stories_id": 1417671921,
          "tag": "Istanbul Biennale",
          "tag_set": "cliff_organizations",
          "tag_sets_id": 2388,
          "tags_id": 35173039
         },
         {
          "stories_id": 1417671921,
          "tag": "Maison Française",
          "tag_set": "cliff_people",
          "tag_sets_id": 2389,
          "tags_id": 41258678
         },
         {
          "stories_id": 1417671921,
          "tag": "Condé Nast Traveller UK",
          "tag_set": "cliff_organizations",
          "tag_sets_id": 2388,
          "tags_id": 71487387
         },
         {
          "stories_id": 1417671921,
          "tag": "Greta Thunberg",
          "tag_set": "cliff_people",
          "tag_sets_id": 2389,
          "tags_id": 73335219
         },
         {
          "stories_id": 1417671921,
          "tag": "readability-lxml-0.7",
          "tag_set": "extractor_version",
          "tag_sets_id": 1354,
          "tags_id": 81092444
         },
         {
          "stories_id": 1417671921,
          "tag": "Alexandria Villaseñor",
          "tag_set": "cliff_people",
          "tag_sets_id": 2389,
          "tags_id": 136213157
         },
         {
          "stories_id": 1417671921,
          "tag": "Takuro Kajiwara",
          "tag_set": "cliff_people",
          "tag_sets_id": 2389,
          "tags_id": 186324160
         },
         {
          "stories_id": 1417671921,
          "tag": "Alamos Inc.",
          "tag_set": "cliff_organizations",
          "tag_sets_id": 2388,
          "tags_id": 187784738
         },
         {
          "stories_id": 1417671921,
          "tag": "Ilgin Yorulmaz",
          "tag_set": "cliff_organizations",
          "tag_sets_id": 2388,
          "tags_id": 187784739
         },
         {
          "stories_id": 1417671921,
          "tag": "Berivan Karakeçili",
          "tag_set": "cliff_people",
          "tag_sets_id": 2389,
          "tags_id": 187784740
         },
         {
          "stories_id": 1417671921,
          "tag": "Kayra Yorulmaz",
          "tag_set": "cliff_people",
          "tag_sets_id": 2389,
          "tags_id": 187784741
         },
         {
          "stories_id": 1417671921,
          "tag": "Takuro-kun",
          "tag_set": "cliff_people",
          "tag_sets_id": 2389,
          "tags_id": 187784742
         }
        ],
        "title": "I Ignored The Urgency Of Addressing Climate Change. Then My House Caught On Fire.",
        "url": "https://www.huffpost.com/entry/climate-change-urgency_n_5d9e04bee4b02c9da042d9cd",
        "word_count": null
       },
       {
        "ap_syndicated": false,
        "collect_date": "2019-08-26 06:05:57.081772",
        "feeds": null,
        "guid": "http://time.com/?p=5661293",
        "language": "en",
        "media_id": 40362,
        "media_name": "time",
        "media_url": "http://www.time.com/time/",
        "metadata": {
         "date_guess_method": null,
         "extractor_version": {
          "stories_id": 1374595249,
          "tag": "readability-lxml-0.7",
          "tag_set": "extractor_version",
          "tag_sets_id": 1354,
          "tags_id": 81092444
         },
         "geocoder_version": {
          "stories_id": 1374595249,
          "tag": "cliff_clavin_v2.4.1",
          "tag_set": "geocoder_version",
          "tag_sets_id": 1937,
          "tags_id": 9696677
         },
         "nyt_themes_version": {
          "stories_id": 1374595249,
          "tag": "nyt_labeller_v1.0.0",
          "tag_set": "nyt_labels_version",
          "tag_sets_id": 1964,
          "tags_id": 9360669
         }
        },
        "processed_stories_id": 1768099473,
        "publish_date": "2019-08-26 05:38:43",
        "stories_id": 1374595249,
        "story_tags": [
         {
          "stories_id": 1374595249,
          "tag": "geonames_4398678",
          "tag_set": "mc-geocoder@media.mit.edu",
          "tag_sets_id": 1011,
          "tags_id": 8878483
         },
         {
          "stories_id": 1374595249,
          "tag": "geonames_2077456",
          "tag_set": "mc-geocoder@media.mit.edu",
          "tag_sets_id": 1011,
          "tags_id": 8878705
         },
         {
          "stories_id": 1374595249,
          "tag": "geonames_4402300",
          "tag_set": "mc-geocoder@media.mit.edu",
          "tag_sets_id": 1011,
          "tags_id": 8879051
         },
         {
          "stories_id": 1374595249,
          "tag": "nyt_labeller_v1.0.0",
          "tag_set": "nyt_labels_version",
          "tag_sets_id": 1964,
          "tags_id": 9360669
         },
         {
          "stories_id": 1374595249,
          "tag": "fish and other marine life",
          "tag_set": "nyt_labels",
          "tag_sets_id": 1963,
          "tags_id": 9360958
         },
         {
          "stories_id": 1374595249,
          "tag": "animals",
          "tag_set": "nyt_labels",
          "tag_sets_id": 1963,
          "tags_id": 9360994
         },
         {
          "stories_id": 1374595249,
          "tag": "ABC News",
          "tag_set": "cliff_organizations",
          "tag_sets_id": 2388,
          "tags_id": 9363445
         },
         {
          "stories_id": 1374595249,
          "tag": "cliff_clavin_v2.4.1",
          "tag_set": "geocoder_version",
          "tag_sets_id": 1937,
          "tags_id": 9696677
         },
         {
          "stories_id": 1374595249,
          "tag": "Scott Bryan",
          "tag_set": "cliff_people",
          "tag_sets_id": 2389,
          "tags_id": 10619575
         },
         {
          "stories_id": 1374595249,
          "tag": "readability-lxml-0.7",
          "tag_set": "extractor_version",
          "tag_sets_id": 1354,
          "tags_id": 81092444
         },
         {
          "stories_id": 1374595249,
          "tag": "Queensland University of Technology geologist",
          "tag_set": "cliff_organizations",
          "tag_sets_id": 2388,
          "tags_id": 172420166
         }
        ],
        "title": "A Giant Raft of Volcanic Rock From an Underwater Eruption Could Help Revive the Great Barrier Reef",
        "url": "http://feedproxy.google.com/~r/time/topstories/~3/AebC2ry3fW4/",
        "word_count": null
       }
      ],
      "text/plain": [
       "<IPython.core.display.JSON object>"
      ]
     },
     "execution_count": 13,
     "metadata": {
      "application/json": {
       "expanded": false,
       "root": "root"
      }
     },
     "output_type": "execute_result"
    }
   ],
   "source": [
    "# grab a random set of stories about this issue (defaults to 20 stories)\n",
    "# note that this seed is fixed, so it will return the same set of random stories each call you make\n",
    "stories = mc.storyList(us_query, date_range_2019, sort=mc.SORT_RANDOM)\n",
    "JSON(stories)"
   ]
  },
  {
   "cell_type": "markdown",
   "metadata": {},
   "source": [
    "If you want to list ALL the stories matching, you need to page through the results. This is accomplished via the `last_processed_stories_id` parameter. This code snippet pages through all the stories in a query."
   ]
  },
  {
   "cell_type": "code",
   "execution_count": 14,
   "metadata": {},
   "outputs": [],
   "source": [
    "def all_matching_stories(mc_client, q, fq):\n",
    "    \"\"\"\n",
    "    Return all the stories matching a query within Media Cloud. Page through the results automatically.\n",
    "    :param mc_client: a `mediacloud.api.MediaCloud` object instantiated with your API key already\n",
    "    :param q: your boolean query\n",
    "    :param fq: your date range query\n",
    "    :return: a list of media cloud story items\n",
    "    \"\"\"\n",
    "    last_id = 0\n",
    "    more_stories = True\n",
    "    stories = []\n",
    "    while more_stories:\n",
    "        page = mc_client.storyList(q, fq, last_processed_stories_id=last_id, rows=500, sort='processed_stories_id')\n",
    "        print(\"  got one page with {} stories\".format(len(page)))\n",
    "        if len(page) == 0:\n",
    "            more_stories = False\n",
    "        else:\n",
    "            stories += page\n",
    "            last_id = page[-1]['processed_stories_id']\n",
    "    return stories"
   ]
  },
  {
   "cell_type": "code",
   "execution_count": 15,
   "metadata": {},
   "outputs": [
    {
     "name": "stdout",
     "output_type": "stream",
     "text": [
      "  got one page with 500 stories\n",
      "  got one page with 500 stories\n",
      "  got one page with 500 stories\n",
      "  got one page with 500 stories\n",
      "  got one page with 500 stories\n",
      "  got one page with 500 stories\n",
      "  got one page with 500 stories\n",
      "  got one page with 500 stories\n",
      "  got one page with 500 stories\n",
      "  got one page with 500 stories\n",
      "  got one page with 500 stories\n",
      "  got one page with 383 stories\n",
      "  got one page with 0 stories\n"
     ]
    },
    {
     "data": {
      "text/plain": [
       "5883"
      ]
     },
     "execution_count": 15,
     "metadata": {},
     "output_type": "execute_result"
    }
   ],
   "source": [
    "# let's fetch all the stories matching our query (this can take a few minutes)\n",
    "jan_2020 = mc.publish_date_query(datetime.date(2020,1,1), datetime.date(2020,2,1))\n",
    "all_stories = all_matching_stories(mc, us_query, jan_2020)\n",
    "len(all_stories)"
   ]
  },
  {
   "cell_type": "markdown",
   "metadata": {},
   "source": [
    "As you may have noted, this can take a while. If you look closely at the `all_matching_stories` function you'll note that it can't be easily parallelized, because it requires content in the results to make the next call. A workaround is to divide you query up by time and query in parallel for something like each week or results. This can speed up the response. Also **just contact us directly if you are trying to do larger data dumps, or hit up against your API quota**."
   ]
  },
  {
   "cell_type": "markdown",
   "metadata": {},
   "source": [
    "### Writing a CSV of Story Data\n",
    "\n",
    "What you probably want is a csv of all this story data. Here's a quick exmaple of dumping that data to a CSV (like Explorer does)."
   ]
  },
  {
   "cell_type": "code",
   "execution_count": 16,
   "metadata": {},
   "outputs": [],
   "source": [
    "# first flatten things a little bit to make writing a CSV easier\n",
    "import mediacloud.tags\n",
    "for s in stories:\n",
    "    # see the \"language\" notebook for more details on themes\n",
    "    theme_tag_names = ','.join([t['tag'] for t in s['story_tags'] if t['tag_sets_id'] == mediacloud.tags.TAG_SET_NYT_THEMES])\n",
    "\n",
    "# now write the CSV\n",
    "import csv\n",
    "fieldnames = ['stories_id', 'publish_date', 'title', 'url', 'language', 'ap_syndicated', 'themes', 'media_id', 'media_name', 'media_url']\n",
    "with open('story-list.csv', 'w', newline='') as csvfile:\n",
    "    writer = csv.DictWriter(csvfile, fieldnames=fieldnames, extrasaction='ignore')\n",
    "    writer.writeheader()\n",
    "    for s in all_stories:\n",
    "        writer.writerow(s)"
   ]
  },
  {
   "cell_type": "code",
   "execution_count": null,
   "metadata": {},
   "outputs": [],
   "source": []
  }
 ],
 "metadata": {
  "kernelspec": {
   "display_name": "Python 3",
   "language": "python",
   "name": "python3"
  },
  "language_info": {
   "codemirror_mode": {
    "name": "ipython",
    "version": 3
   },
   "file_extension": ".py",
   "mimetype": "text/x-python",
   "name": "python",
   "nbconvert_exporter": "python",
   "pygments_lexer": "ipython3",
   "version": "3.7.3"
  }
 },
 "nbformat": 4,
 "nbformat_minor": 4
}
