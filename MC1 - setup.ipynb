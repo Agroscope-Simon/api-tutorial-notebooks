{
 "cells": [
  {
   "cell_type": "markdown",
   "metadata": {},
   "source": [
    "Media Cloud: Setting up Your Environment\n",
    "========================================\n",
    "\n",
    "[Media Cloud](https://mediacloud.org) is an open-source platform for media analysis. It is a collaborative academic project supported by various non-profit foundations since 2011. You can use our various online tools to investigate news coverage about your topic of interest, and all the same information is available via a rich API."
   ]
  },
  {
   "cell_type": "markdown",
   "metadata": {},
   "source": [
    "# Installing and Instantiating a Client"
   ]
  },
  {
   "cell_type": "markdown",
   "metadata": {},
   "source": [
    "We maintain and provide [a Python client for the api on PyPi](https://pypi.org/project/mediacloud/). You can install it using pip, and then you need to instantiate a client with your API key. To obtain your api key, you can:\n",
    "1. [login to any of our tools](https://tools.mediacloud.org/)\n",
    "2. click the little person icon in the top right, then select \"profile\"\n",
    "3. copy your API key from where it is shown in the list of information about your account\n",
    "4. add that API key as an environment variable called `MC_API_KEY` to your system (instructions for [Anaconda](https://anaconda-project.readthedocs.io/en/latest/user-guide/tasks/work-with-variables.html))"
   ]
  },
  {
   "cell_type": "code",
   "execution_count": null,
   "metadata": {},
   "outputs": [],
   "source": [
    "# If you are running this locally (not on bindery), then you should install the requirements\n",
    "import sys\n",
    "!{sys.executable} -m pip install -r requirements.txt"
   ]
  },
  {
   "cell_type": "code",
   "execution_count": null,
   "metadata": {},
   "outputs": [],
   "source": [
    "import mediacloud.api\n",
    "import os\n",
    "# We recommend exposing your Media Cloud API key to your notebook as an environment variable - this lets you track your\n",
    "# notebooks in GIT, or share them, without worrying about exposing your API key to others.\n",
    "my_mc_api_key = os.getenv('MC_API_KEY')\n",
    "# A convention we use is to name your api client `mc`\n",
    "mc = mediacloud.api.MediaCloud(my_mc_api_key)\n",
    "mediacloud.__version__"
   ]
  },
  {
   "cell_type": "code",
   "execution_count": null,
   "metadata": {},
   "outputs": [],
   "source": [
    "# make sure your connection and API key work by asking for the high-level system statistics\n",
    "mc.stats()"
   ]
  },
  {
   "cell_type": "code",
   "execution_count": null,
   "metadata": {},
   "outputs": [],
   "source": []
  }
 ],
 "metadata": {
  "kernelspec": {
   "display_name": "Python 3",
   "language": "python",
   "name": "python3"
  },
  "language_info": {
   "codemirror_mode": {
    "name": "ipython",
    "version": 3
   },
   "file_extension": ".py",
   "mimetype": "text/x-python",
   "name": "python",
   "nbconvert_exporter": "python",
   "pygments_lexer": "ipython3",
   "version": "3.7.3"
  }
 },
 "nbformat": 4,
 "nbformat_minor": 4
}
