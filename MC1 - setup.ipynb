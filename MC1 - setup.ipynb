{
 "cells": [
  {
   "cell_type": "markdown",
   "metadata": {},
   "source": [
    "Media Cloud: Setting up Your Environment\n",
    "========================================\n",
    "\n",
    "[Media Cloud](https://mediacloud.org) is an open-source platform for media analysis. It is a collaborative academic project supported by various non-profit foundations since 2011. You can use our various online tools to investigate news coverage about your topic of interest, and all the same information is available via a rich API. We maintain and provide [a Python client for the api on PyPi](https://pypi.org/project/mediacloud/)."
   ]
  },
  {
   "cell_type": "markdown",
   "metadata": {},
   "source": [
    "## Setup Your API Key\n",
    "\n",
    "You need to instantiate a client with your **private** API key. This key is linked to your account, and has a quota attached to it so you don't blow up our servers. If you run into the quota then you will see errors returned in your API calls. Email us if you need to increase your quota.\n",
    "\n",
    "To obtain your api key, you can:\n",
    "1. [login to any of our tools](https://tools.mediacloud.org/)\n",
    "2. click the little person icon in the top right, then select \"profile\"\n",
    "3. copy your API key from where it is shown in the list of information about your account\n",
    "\n",
    "For this tutorial, we decided to use the commonly used [`python-dotenv`](https://pypi.org/project/python-dotenv/) library to load this magic string in each notebook file without exposing it.\n",
    "\n",
    "1. In this Jupyter Lab hosted on Binder, select File -> Open from Path from the menu bar\n",
    "2. Type in \".env\" and click Open\n",
    "3. Replace \"MY_MC_API_KEY\" with your API key (from your profile page)\n",
    "4. Select File -> Save"
   ]
  },
  {
   "cell_type": "markdown",
   "metadata": {},
   "source": [
    "## Installing and Instantiating a Client"
   ]
  },
  {
   "cell_type": "code",
   "execution_count": null,
   "metadata": {},
   "outputs": [],
   "source": [
    "# If you are running this locally (not on Binder), then you should install the requirements. If you are using this on\n",
    "# Binder then all of these will be installed for you automatically.\n",
    "#import sys\n",
    "#!{sys.executable} -m pip install -r requirements.txt"
   ]
  },
  {
   "cell_type": "code",
   "execution_count": null,
   "metadata": {},
   "outputs": [],
   "source": [
    "from dotenv import load_dotenv\n",
    "load_dotenv()  # load config from .env file"
   ]
  },
  {
   "cell_type": "code",
   "execution_count": null,
   "metadata": {},
   "outputs": [],
   "source": [
    "import mediacloud.api\n",
    "# Read your personal API key from that .env file \n",
    "my_mc_api_key = os.getenv('MC_API_KEY')\n",
    "# A convention we use is to name your api client `mc`\n",
    "mc = mediacloud.api.MediaCloud(my_mc_api_key)\n",
    "mediacloud.__version__"
   ]
  },
  {
   "cell_type": "code",
   "execution_count": null,
   "metadata": {},
   "outputs": [],
   "source": [
    "# make sure your connection and API key work by asking for the high-level system statistics\n",
    "mc.stats()"
   ]
  },
  {
   "cell_type": "code",
   "execution_count": null,
   "metadata": {},
   "outputs": [],
   "source": [
    "# or print it out as a nice json tree - we'll use this later (only works in Jupyter Lab)\n",
    "from IPython.display import JSON\n",
    "JSON(mc.stats())"
   ]
  },
  {
   "cell_type": "code",
   "execution_count": null,
   "metadata": {},
   "outputs": [],
   "source": []
  }
 ],
 "metadata": {
  "kernelspec": {
   "display_name": "Python 3",
   "language": "python",
   "name": "python3"
  },
  "language_info": {
   "codemirror_mode": {
    "name": "ipython",
    "version": 3
   },
   "file_extension": ".py",
   "mimetype": "text/x-python",
   "name": "python",
   "nbconvert_exporter": "python",
   "pygments_lexer": "ipython3",
   "version": "3.7.3"
  }
 },
 "nbformat": 4,
 "nbformat_minor": 4
}
